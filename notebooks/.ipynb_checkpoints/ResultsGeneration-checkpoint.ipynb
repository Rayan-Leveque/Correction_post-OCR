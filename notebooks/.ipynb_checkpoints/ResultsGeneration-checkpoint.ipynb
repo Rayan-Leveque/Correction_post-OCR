{
 "cells": [
  {
   "cell_type": "code",
   "execution_count": null,
   "id": "cfadbdcd",
   "metadata": {},
   "outputs": [],
   "source": [
    "# !pip install pandarallel\n",
    "# !pip install pywer\n",
    "# !pip install pyjarowinkler\n",
    "# !pip install pywer\n",
    "# !pip install pyjarowinkler\n",
    "\n"
   ]
  },
  {
   "cell_type": "code",
   "execution_count": 74,
   "id": "1ee27f83",
   "metadata": {},
   "outputs": [],
   "source": [
    "import pandas as pd\n",
    "# from pandarallel import pandarallel\n",
    "\n",
    "# Initialization\n",
    "# pandarallel.initialize()\n",
    "from tqdm import tqdm\n",
    "tqdm.pandas()\n",
    "import os\n",
    "import json\n",
    "import pywer\n",
    "from pyjarowinkler import distance as jwdistance\n",
    "from tqdm import tqdm\n",
    "\n",
    "class Const:\n",
    "    OCR = 'ocr'\n",
    "    GROUND = 'groundtruth'\n",
    "    LINE = 'line'\n",
    "    SENTENCE = 'sentence'\n",
    "    FILE = 'filename'\n",
    "    DATASET = 'dataset_name'\n",
    "    PREDICTION = 'prediction'\n",
    "    PROMPT = 'prompt'\n",
    "    LANGUAGE = 'language'\n",
    "    NONE = None\n"
   ]
  },
  {
   "cell_type": "markdown",
   "id": "118ead6e",
   "metadata": {},
   "source": [
    "### Lookup datasets"
   ]
  },
  {
   "cell_type": "code",
   "execution_count": 75,
   "id": "f79f14e7",
   "metadata": {},
   "outputs": [
    {
     "name": "stdout",
     "output_type": "stream",
     "text": [
      "../data/datasets/asr/converted/ina/ina_last.jsonl ina\n"
     ]
    }
   ],
   "source": [
    "datasets = []\n",
    "\n",
    "for type_document in ['ocr', 'htr', 'asr']:\n",
    "    for root, dirs, files in os.walk(f'../data/datasets/{type_document}/converted'):\n",
    "        for file in files:\n",
    "            if file.endswith(\".jsonl\"):\n",
    "                input_file = os.path.join(root, file)\n",
    "                if 'sample' not in input_file:\n",
    "                    with open(input_file) as f:\n",
    "                        lines = f.read().splitlines()\n",
    "                    df_inter = pd.DataFrame(lines)\n",
    "                    df_inter.columns = ['json_element']\n",
    "                    df_inter['json_element'].apply(json.loads)\n",
    "                    df = pd.json_normalize(df_inter['json_element'].apply(json.loads))\n",
    "\n",
    "                    dataset_name = root.split('/')[-1].replace('_', '-')\n",
    "                    print(input_file, dataset_name)\n",
    "                    df['dataset_name'] = [dataset_name] * len(df)\n",
    "                    if 'ajmc' in dataset_name:\n",
    "                        df['language'] = ['el'] * len(df)\n",
    "                    if 'overproof' in dataset_name:\n",
    "                        df['language'] = ['en'] * len(df)\n",
    "                    if 'impresso' in dataset_name:\n",
    "                        df['language'] = ['de'] * len(df)\n",
    "\n",
    "                    datasets.append(df)\n",
    "            "
   ]
  },
  {
   "cell_type": "code",
   "execution_count": 76,
   "id": "58611ad0",
   "metadata": {},
   "outputs": [
    {
     "name": "stdout",
     "output_type": "stream",
     "text": [
      "Number of unique lines/sentences/regions.\n",
      "\n",
      "Dataset: ina 489 with duplicates\n",
      "No. lines: 201 / 489 No. sentences: 290 / 489\n",
      "--------------------------------------------------------------------------------\n"
     ]
    }
   ],
   "source": [
    "print('Number of unique lines/sentences/regions.\\n')\n",
    "for dataset in datasets:\n",
    "    print('Dataset:', dataset['dataset_name'].unique()[0], len(dataset), 'with duplicates')\n",
    "    print('No. lines:', dataset['ocr.line']. nunique(), '/', len(dataset['ocr.sentence']), \n",
    "          'No. sentences:', dataset['ocr.sentence']. nunique(), '/', len(dataset['ocr.sentence']))\n",
    "    print('-'*80)"
   ]
  },
  {
   "cell_type": "markdown",
   "id": "8fd830ab",
   "metadata": {},
   "source": [
    "## Step 1: Loading of Results\n"
   ]
  },
  {
   "cell_type": "code",
   "execution_count": 77,
   "id": "5b00aab0",
   "metadata": {},
   "outputs": [],
   "source": [
    "def read_line_by_line(filename):\n",
    "    pass\n",
    "\n",
    "def json_load(text):\n",
    "    \n",
    "    try:\n",
    "        loaded_line = json.loads(text)\n",
    "    except Exception as ex:\n",
    "        print(ex)\n",
    "        print(text[:30], '...')\n",
    "        loaded_line = 'No text'\n",
    "    return loaded_line"
   ]
  },
  {
   "cell_type": "code",
   "execution_count": 78,
   "id": "1666da8a",
   "metadata": {},
   "outputs": [],
   "source": [
    "def get_icdar_2017_lang(filename):\n",
    "    lang = filename.split('/')[-2].split('_')[0]\n",
    "    if lang =='eng':\n",
    "        lang = 'en'\n",
    "    return lang"
   ]
  },
  {
   "cell_type": "code",
   "execution_count": 79,
   "id": "b8200754",
   "metadata": {},
   "outputs": [
    {
     "data": {
      "text/plain": [
       "34358"
      ]
     },
     "execution_count": 79,
     "metadata": {},
     "output_type": "execute_result"
    }
   ],
   "source": [
    "import gc; gc.collect()"
   ]
  },
  {
   "cell_type": "code",
   "execution_count": 80,
   "id": "cff1950d",
   "metadata": {
    "scrolled": true
   },
   "outputs": [
    {
     "name": "stderr",
     "output_type": "stream",
     "text": [
      "100%|█| 55/55 [00:00<00:00\n"
     ]
    }
   ],
   "source": [
    "from tqdm import tqdm\n",
    "import os\n",
    "\n",
    "results, results_backup = [], []\n",
    "\n",
    "# First traversal to get count of .jsonl files\n",
    "jsonl_count = 0\n",
    "for root, dirs, files in os.walk('../data/output'):\n",
    "    for file in files:\n",
    "        if file.endswith(\".jsonl\"):\n",
    "            jsonl_count += 1\n",
    "\n",
    "# Second traversal to do the processing with tqdm progress bar\n",
    "with tqdm(total=jsonl_count) as pbar:\n",
    "    for root, dirs, files in os.walk('../data/output'):\n",
    "        for file in files:\n",
    "            if file.endswith(\".jsonl\"):\n",
    "                input_file = os.path.join(root, file)\n",
    "                is_few = False\n",
    "                if 'few' in input_file:\n",
    "                    prompt = root.split('/')[-2]\n",
    "                    is_few = True\n",
    "                else:\n",
    "                    prompt = root.split('/')[-2]\n",
    "                    \n",
    "                if 'sample' not in input_file:\n",
    "                    try:\n",
    "                        with open(input_file) as f:\n",
    "                            text = f.read()\n",
    "                    \n",
    "                        with open(input_file) as f:\n",
    "                            lines = f.readlines()\n",
    "                    except Exception as ex:\n",
    "                        # sometimes, the results were in progress, so the jsonfile was not correct\n",
    "                        print('We could not load {} {}'.format(input_file, ex))\n",
    "                        continue\n",
    "                    # Check correct lines\n",
    "                    text = text.replace('\\n', '')\n",
    "                    text_list = text.split('}}{\"')\n",
    "                    json_objects = []\n",
    "\n",
    "                    for i, t in enumerate(text_list):\n",
    "                        if i != 0:\n",
    "                            t = '{\"' + t\n",
    "                        if i != len(text_list) - 1:\n",
    "                            t = t + '}'\n",
    "                        if not t.endswith('}}'):\n",
    "                            json_objects.append(t + '}\\n')\n",
    "                        else:\n",
    "                            json_objects.append(t + '\\n')\n",
    "                        \n",
    "                    df_inter = pd.DataFrame(json_objects)\n",
    "                    df_inter.columns = ['json_element']\n",
    "\n",
    "                    dataset_name = root.split('/')[-1].replace('_', '-')\n",
    "                    model_dataset_name = file[8:-6]\n",
    "                    model_name = model_dataset_name.replace(root.split('/')[-1] + '-', '').strip()\n",
    "                    try:\n",
    "                        df_inter['json_element'].apply(lambda x: json_load(x))\n",
    "                        df = pd.json_normalize(df_inter['json_element'].apply(json.loads))\n",
    "\n",
    "                        df['model'] = [model_name] * len(df)\n",
    "\n",
    "                        df['dataset_name'] = [dataset_name] * len(df)\n",
    "                        df['prompt'] = [prompt] * len(df)\n",
    "                        try:\n",
    "                            with open(f'../data/prompts/{prompt}.txt', 'r') as f:\n",
    "                                prompt_text = f.read()\n",
    "                            prompt_text = prompt\n",
    "                        except:\n",
    "                            prompt_text = 'prompt_complex_per_lang'\n",
    "                            \n",
    "                        df['prompt_text'] = [prompt_text] * len(df)\n",
    "                        \n",
    "                        if is_few:\n",
    "                            df['type'] = ['few-shot'] * len(df)\n",
    "                        else:\n",
    "                            df['type'] = ['zero-shot'] * len(df)\n",
    "\n",
    "                        df['dataset_name'] = [dataset_name] * len(df)\n",
    "                        \n",
    "                        # for ajmc, it could be separated for -primary and -el only\n",
    "                        if 'ajmc' in dataset_name:\n",
    "                            df['language'] = ['el'] * len(df)\n",
    "                        if 'ina' in dataset_name:\n",
    "                            df['language'] = ['fr'] * len(df)\n",
    "                        if 'overproof' in dataset_name:\n",
    "                            df['language'] = ['en'] * len(df)\n",
    "                        if 'impresso' in dataset_name:\n",
    "                            df['language'] = ['de'] * len(df)\n",
    "                        if 'htrec' in dataset_name:\n",
    "                            df['language'] = ['el'] * len(df)\n",
    "\n",
    "                        if dataset_name == 'icdar-2017':\n",
    "                            df['language'] = df['filename'].apply(get_icdar_2017_lang)\n",
    "                        \n",
    "                        df['file'] = file\n",
    "                        \n",
    "                        df['name_of_file_idx'] = df.index.to_series().apply(lambda i: f\"{file}_{i}\")\n",
    "                    \n",
    "                        results.append(df)\n",
    "                        results_backup.append(df)\n",
    "                    except Exception as ex:\n",
    "                        print('We could not load {} {}'.format(input_file, ex))\n",
    "                    pbar.update()\n"
   ]
  },
  {
   "cell_type": "markdown",
   "id": "88ad1548",
   "metadata": {},
   "source": [
    "Check one result:"
   ]
  },
  {
   "cell_type": "code",
   "execution_count": 81,
   "id": "58735b7f",
   "metadata": {},
   "outputs": [
    {
     "data": {
      "text/plain": [
       "filename                ../../data/datasets/asr/original/ina/3_impress...\n",
       "dataset_name                                                     ina-last\n",
       "ocr.line                déjà trois années là cela se passait à la gare...\n",
       "ocr.sentence            cela se passait à la gare de l'est vous s'étai...\n",
       "groundtruth.line        Déjà trois années de cela. Cela se passait à l...\n",
       "groundtruth.sentence    Cela se passait à la Gare de l'Est où s'étaien...\n",
       "prediction.prompt       Transcris le texte océrisé suivant (extrait d'...\n",
       "prediction.line         Déjà trois années là, cela se passait à la gar...\n",
       "prediction.sentence     Voici le texte corrigé :\\n\\n\"Cela se passait à...\n",
       "model                   meta-llama-llama-4-maverick-17b-128e-instruct-...\n",
       "prompt                                                    prompt_basic_02\n",
       "prompt_text                                               prompt_basic_02\n",
       "type                                                            zero-shot\n",
       "language                                                               fr\n",
       "file                    results-ina_last-meta-llama-llama-4-maverick-1...\n",
       "name_of_file_idx        results-ina_last-meta-llama-llama-4-maverick-1...\n",
       "Name: 1, dtype: object"
      ]
     },
     "execution_count": 81,
     "metadata": {},
     "output_type": "execute_result"
    }
   ],
   "source": [
    "results[0].iloc[1]\n"
   ]
  },
  {
   "cell_type": "code",
   "execution_count": 82,
   "id": "c7a8400d",
   "metadata": {},
   "outputs": [
    {
     "data": {
      "text/plain": [
       "Index(['filename', 'dataset_name', 'ocr.line', 'ocr.sentence',\n",
       "       'groundtruth.line', 'groundtruth.sentence', 'prediction.prompt',\n",
       "       'prediction.line', 'prediction.sentence', 'model', 'prompt',\n",
       "       'prompt_text', 'type', 'language', 'file', 'name_of_file_idx'],\n",
       "      dtype='object')"
      ]
     },
     "execution_count": 82,
     "metadata": {},
     "output_type": "execute_result"
    }
   ],
   "source": [
    "results[0].columns\n"
   ]
  },
  {
   "cell_type": "code",
   "execution_count": 83,
   "id": "7cab0f66",
   "metadata": {},
   "outputs": [
    {
     "name": "stderr",
     "output_type": "stream",
     "text": [
      "100%|█| 55/55 [00:00<00:00\n"
     ]
    }
   ],
   "source": [
    "for idx, result in tqdm(enumerate(results), total=len(results)):\n",
    "    for _, item in result.iterrows():\n",
    "        dataset_name = results[idx]['dataset_name'].unique()[0]\n",
    "        text_types = ['line', 'sentence']\n",
    "\n",
    "        for segment_type in text_types:\n",
    "            if '{{TEXTE}}' in str(item[f'prediction.{segment_type}']):\n",
    "                print(item['model'], item['dataset_name'], item['prompt'], item['type'])\n"
   ]
  },
  {
   "cell_type": "code",
   "execution_count": null,
   "id": "50d427f9",
   "metadata": {},
   "outputs": [],
   "source": []
  },
  {
   "cell_type": "code",
   "execution_count": null,
   "id": "a5d64602",
   "metadata": {},
   "outputs": [],
   "source": []
  },
  {
   "cell_type": "markdown",
   "id": "0d08ab9f",
   "metadata": {},
   "source": [
    "## Step 2:  Post-process the Results"
   ]
  },
  {
   "cell_type": "code",
   "execution_count": 84,
   "id": "8d50ad03",
   "metadata": {},
   "outputs": [],
   "source": [
    "import Levenshtein\n",
    "from Levenshtein import distance\n",
    "# from mbleven import compare\n",
    "# import distance as faster_distance\n",
    "# import mbleven\n",
    "\n",
    "def compute_normalized_levenshtein_similarity(ground_truth_text, ocr_text):\n",
    "    length = max(len(ocr_text), len(ground_truth_text))\n",
    "    # Check if both strings are empty\n",
    "    if length == 0:\n",
    "        return 1.0\n",
    "    levenshtein_distance = distance(ocr_text, ground_truth_text)\n",
    "    similarity = (length - levenshtein_distance) / length\n",
    "    return similarity\n",
    "\n",
    "# def compute_jaccard(ocr_text, ground_truth_text):\n",
    "#     try: \n",
    "#         return jwdistance.get_jaro_distance(ocr_text, ground_truth_text)\n",
    "#     except:\n",
    "#         return 0.0\n",
    "\n",
    "def get_improvement(original_similarity, corrected_similarity):\n",
    "    \n",
    "    if original_similarity == 0:\n",
    "        return min(max(corrected_similarity, -1), 1)\n",
    "    elif original_similarity != corrected_similarity:\n",
    "        return min(max((corrected_similarity - original_similarity) / original_similarity, -1), 1)\n",
    "    elif original_similarity == corrected_similarity:\n",
    "        return 0\n",
    "    else:\n",
    "        return 0 if corrected_similarity < 1 else 1\n",
    "\n",
    "\n",
    "# lev(ocr, gs) − lev(c, gs)/len(gs)\n",
    "# def get_improvement(original_similarity, corrected_similarity, pred_text, ocr_text, ground_truth_text):\n",
    "#     if len(ground_truth_text) ==0:\n",
    "#         print('----', ocr_text[:20].strip(), '----', pred_text[:20].strip())\n",
    "#         return 0\n",
    "#     score = (original_similarity - corrected_similarity)/len(ground_truth_text)\n",
    "#     #print(ground_truth_text[:20].strip(), '----', ocr_text[:20].strip(), '----', pred_text[:20].strip(), len(ground_truth_text), len(pred_text), '--', score)\n",
    "#     return score\n",
    "    \n"
   ]
  },
  {
   "cell_type": "markdown",
   "id": "23cabbc4",
   "metadata": {},
   "source": [
    "#### Small checks:"
   ]
  },
  {
   "cell_type": "code",
   "execution_count": 85,
   "id": "41f8de4e",
   "metadata": {},
   "outputs": [
    {
     "data": {
      "text/plain": [
       "-0.7713953488372093"
      ]
     },
     "execution_count": 85,
     "metadata": {},
     "output_type": "execute_result"
    }
   ],
   "source": [
    "gt_text = \"149 Obrázek z maloměstského kukátka. Podává L. Gro 149 Obrázek z maloměstského kukátka. Podává L. Grw149 Obrázek z maloměstského kukátka. Podává L. Grw149 Obrázek z maloměstského kukátka. Podává L. Grw149 Obrázek z maloměstského kukátka. Podává L. Grw149 Obrázek z maloměstského kukátka. Podává L. Grw149 Obrázek z maloměstského kukátka. Podává L. Grw149 Obrázek z maloměstského kukátka. Podává L. Grw149 Obrázek z maloměstského kukátka. Podává L. Grw149 Obrázek z maloměstského kukátka. Podává L. Grw149 Obrázek z maloměstského kukátka. Podává L. Grw149 Obrázek z maloměstského kukátka. Podává L. Grw149 Obrázek z maloměstského kukátka. Podává L. Grw149 Obrázek z maloměstského kukátka. Podává L. Grw149 Obrázek z maloměstského kukátka. Podává L. Grw149 Obrázek z maloměstského kukátka. Podává L. Grw149 Obrázek z maloměstského kukátka. Podává L. Grw149 Obrázek z maloměstského kukátka. Podává L. Grw149 Obrázek z maloměstského kukátka. Podává L. Grw149 Obrázek z maloměstského kukátka. Podává L. Grw149 Obrázek z maloměstského kukátka. Podává L. Grw149 Obrázek z maloměstského kukátka. Podává L. Grw149 Obrázek z maloměstského kukátka. Podává L. Grw149 Obrázek z maloměstského kukátka. Podává L. Grw149 Obrázek z maloměstského kukátka. Podává L. Grw149 Obrázek z maloměstského kukátka. Podává L. Grw149 Obrázek z maloměstského kukátka. Podává L. Grw149 Obrázek z maloměstského kukátka. Podává L. Grw149 Obrázek z maloměstského kukátka. Podává L. Grw149 Obrázek z maloměstského kukátka. Podává L. Grw149 Obrázek z maloměstského kukátka. Podává L. Grw149 Obrázek z maloměstského kukátka. Podává L. Grw149 Obrázek z maloměstského kukátka. Podává L. Grw149 Obrázek z maloměstského kukátka. Podává L. Grw149 Obrázek z maloměstského kukátka. Podává L. Grw149 Obrázek z maloměstského kukátka. Podává L. Grw149 Obrázek z maloměstského kukátka. Podává L. Grw149 Obrázek z maloměstského kukátka. Podává L. Grw149 Obrázek z maloměstského kukátka. Podává L. Grw149 Obrázek z maloměstského kukátka. Podává L. Grw149 Obrázek z maloměstského kukátka. Podává L. Grw149 Obrázek z maloměstského kukátka. Podává L. Grw149 Obrázek z maloměstského kukátka. Podává L. Grw149 Obrázek z maloměstského kukátka. Podává L. Grw149 Obrázek z maloměstského kukátka. Podává L. Grw149 Obrázek z maloměstského kukátka. Podává L. Grw149 Obrázek z maloměstského kukátka. Podává L. Grw149 Obrázek z maloměstského kukátka. Podává L. Grw149 Obrázek z maloměstského kukátka. Podává L. Grw149 Obrázek z maloměstského kukátka. Podává L. Grw149 Obrázek z maloměstského kukátka. Podává L. Grw149 Obrázek z maloměstského kukátka. Podává L. Grw149 Obrázek z maloměstského kukátka. Podává L. Grw149 Obrázek z maloměstského kukátka. Podává L. Grw149 Obrázek z maloměstského kukátka. Podává L. Grw149 Obrázek z maloměstského kukátka. Podává L. Grw149 Obrázek z maloměstského kukátka. Podává L. Grw149 Obrázek z maloměstského kukátka. Podává L. Grw149 Obrázek z maloměstského kukátka. Podává L. Grw149 Obrázek z maloměstského kukátka. Podává L. Grw149 Obrázek z maloměstského kukátka. Podává L. Grw149 Obrázek z maloměstského kukátka. Podává L. Grw149 Obrázek z maloměstského kukátka. Podává L. Grw149 Obrázek z maloměstského kukátka. Podává L. Grw149 Obrázek z maloměstského kukátka. Podává L. Grw149 Obrázek z maloměstského kukátka. Podává L. Grw149 Obrázek z maloměstského kukátka. Podává L. Grw149 Obrázek z maloměstského kukátka. Podává L. Grw149 Obrázek z maloměstského kukátka. Podává L. Grw149 Obrázek z maloměstského kukátka. Podává L. Grw149 Obrázek z maloměstského kukátka. Podává L. Grw149 Obrázek z maloměstského kukátka. Podává L. Grw149 Obrázek z maloměstského kukátka. Podává L. Grw149 Obrázek z maloměstského kukátka. Podává L. Grw149 Obrázek z maloměstského kukátka. Podává L. Grw149 Obrázek z maloměstského kukátka. Podává L. Grw149 Obrázek z maloměstského kukátka. Podává L. Grw149 Obrázek z maloměstského kukátka. Podává L. Grw149 Obrázek z maloměstského kukátka. Podává L. Grw149 Obrázek z maloměstského kukátka. Podává L. Grw149 Obrázek z maloměstského kukátka. Podává L. Grw149 Obrázek z maloměstského kukátka. Podává L. Grw149 Obrázek z maloměstského kukátka. Podává L. Grw149 Obrázek z maloměstského kukátka. Podává L. Grw149 Obrázek z maloměstského kukátka. Podává L. Grw149 Obrázek z maloměstského kukátka. Podává L. Grw149 Obrázek z maloměstského kukátka. Podává L. Grw149 Obrázek z maloměstského kukátka. Podává L. Grw149 Obrázek z maloměstského kukátka. Podává L. Grw149 Obrázek z maloměstského kukátka. Podává L. Grw149 Obrázek z maloměstského kukátka. Podává L. Grw149 Obrázek z maloměstského kukátka. Podává L. Grw149 Obrázek z maloměstského kukátka. Podává L. Grw\"\n",
    "ocr_text = \"149 Obrázek z maloměstského kukátka. Podává L. Grw149 Obrázek z maloměstského kukátka. Podává L. Grw149 Obrázek z maloměstského kukátka. Podává L. Grw149 Obrázek z maloměstského kukátka. Podává L. Grw149 Obrázek z maloměstského kukátka. Podává L. Grw149 Obrázek z maloměstského kukátka. Podává L. Grw149 Obrázek z maloměstského kukátka. Podává L. Grw149 Obrázek z maloměstského kukátka. Podává L. Grw149 Obrázek z maloměstského kukátka. Podává L. Grw149 Obrázek z maloměstského kukátka. Podává L. Grw149 Obrázek z maloměstského kukátka. Podává L. Grw149 Obrázek z maloměstského kukátka. Podává L. Grw149 Obrázek z maloměstského kukátka. Podává L. Grw149 Obrázek z maloměstského kukátka. Podává L. Grw149 Obrázek z maloměstského kukátka. Podává L. Grw149 Obrázek z maloměstského kukátka. Podává L. Grw149 Obrázek z maloměstského kukátka. Podává L. Grw149 Obrázek z maloměstského kukátka. Podává L. Grw149 Obrázek z maloměstského kukátka. Podává L. Grw149 Obrázek z maloměstského kukátka. Podává L. Grw149 Obrázek z maloměstského kukátka. Podává L. Grw149 Obrázek z maloměstského kukátka. Podává L. Grw149 Obrázek z maloměstského kukátka. Podává L. Grw149 Obrázek z maloměstského kukátka. Podává L. Grw149 Obrázek z maloměstského kukátka. Podává L. Grw149 Obrázek z maloměstského kukátka. Podává L. Grw149 Obrázek z maloměstského kukátka. Podává L. Grw149 Obrázek z maloměstského kukátka. Podává L. Grw149 Obrázek z maloměstského kukátka. Podává L. Grw149 Obrázek z maloměstského kukátka. Podává L. Grw149 Obrázek z maloměstského kukátka. Podává L. Grw149 Obrázek z maloměstského kukátka. Podává L. Grw149 Obrázek z maloměstského kukátka. Podává L. Grw149 Obrázek z maloměstského kukátka. Podává L. Grw149 Obrázek z maloměstského kukátka. Podává L. Grw149 Obrázek z maloměstského kukátka. Podává L. Grw149 Obrázek z maloměstského kukátka. Podává L. Grw149 Obrázek z maloměstského kukátka. Podává L. Grw149 Obrázek z maloměstského kukátka. Podává L. Grw149 Obrázek z maloměstského kukátka. Podává L. Grw149 Obrázek z maloměstského kukátka. Podává L. Grw149 Obrázek z maloměstského kukátka. Podává L. Grw149 Obrázek z maloměstského kukátka. Podává L. Grw149 Obrázek z maloměstského kukátka. Podává L. Grw149 Obrázek z maloměstského kukátka. Podává L. Grw149 Obrázek z maloměstského kukátka. Podává L. Grw149 Obrázek z maloměstského kukátka. Podává L. Grw149 Obrázek z maloměstského kukátka. Podává L. Grw149 Obrázek z maloměstského kukátka. Podává L. Grw149 Obrázek z maloměstského kukátka. Podává L. Grw149 Obrázek z maloměstského kukátka. Podává L. Grw149 Obrázek z maloměstského kukátka. Podává L. Grw149 Obrázek z maloměstského kukátka. Podává L. Grw149 Obrázek z maloměstského kukátka. Podává L. Grw149 Obrázek z maloměstského kukátka. Podává L. Grw149 Obrázek z maloměstského kukátka. Podává L. Grw149 Obrázek z maloměstského kukátka. Podává L. Grw149 Obrázek z maloměstského kukátka. Podává L. Grw149 Obrázek z maloměstského kukátka. Podává L. Grw149 Obrázek z maloměstského kukátka. Podává L. Grw149 Obrázek z maloměstského kukátka. Podává L. Grw149 Obrázek z maloměstského kukátka. Podává L. Grw149 Obrázek z maloměstského kukátka. Podává L. Grw149 Obrázek z maloměstského kukátka. Podává L. Grw149 Obrázek z maloměstského kukátka. Podává L. Grw149 Obrázek z maloměstského kukátka. Podává L. Grw149 Obrázek z maloměstského kukátka. Podává L. Grw149 Obrázek z maloměstského kukátka. Podává L. Grw149 Obrázek z maloměstského kukátka. Podává L. Grw149 Obrázek z maloměstského kukátka. Podává L. Grw149 Obrázek z maloměstského kukátka. Podává L. Grw149 Obrázek z maloměstského kukátka. Podává L. Grw149 Obrázek z maloměstského kukátka. Podává L. Grw149 Obrázek z maloměstského kukátka. Podává L. Grw149 Obrázek z maloměstského kukátka. Podává L. Grw149 Obrázek z maloměstského kukátka. Podává L. Grw149 Obrázek z maloměstského kukátka. Podává L. Grw149 Obrázek z maloměstského kukátka. Podává L. Grw149 Obrázek z maloměstského kukátka. Podává L. Grw149 Obrázek z maloměstského kukátka. Podává L. Grw149 Obrázek z maloměstského kukátka. Podává L. Grw149 Obrázek z maloměstského kukátka. Podává L. Grw149 Obrázek z maloměstského kukátka. Podává L. Grw149 Obrázek z maloměstského kukátka. Podává L. Grw149 Obrázek z maloměstského kukátka. Podává L. Grw149 Obrázek z maloměstského kukátka. Podává L. Grw\"\n",
    "pred_text = \"\"\"Correct the text: \"149 Obrázek z maloměstského kukátka. Podává L. Grwsmannová-Brodská. Místo děje: salon paní stavitelky; doba: čas věnovaný kávové „visitě\"; jednající osoby: dámy přednější honorace městské, z nichž •většina je mladá a některé skutečně hezké. Na stole prostřeném krásným ubrusem damaškovým stojí talíře s koláčky, věnečky a preclíčky, kol toho pěkně se vyjímají křišťálové sklenky s vodou, stříbrné lžičky a šálky z jemného porcelánu, jejichž vonný obsah na přítomné paničky zdá se velmi blaze působiti. Ze živějšího hovoru vyznívá právě hlas paní notářky, která ve spravedlivém rozhorlení mluví: „Ano, mé dámy, již jest to takové! Samy ráčily jste býti svědky, jak svorně i jednohlasně byl přijat návrh paní sládkové, abychom si pořídily kroje národní a tak přispěly ku zvýšení lesku slavnosti, již pořádá náš statečný studentský spolek „Hvězda\", a když již nás páni akademikové poctili důvěrou, že v naše ruce složili starost o buffet a jiné ještě funkce, tož měly bychom snad též jiti za příkladem slečen berních a vzdáti se činnosti jen proto, že se zdá paní berní národní kroj pro tři dcery býti nějakou zby tečnou výlohou?\" Paničky projevovaly svoji nevoli, každá jiným spůsobem. Mladá paní adjunktová v duchu si umiňovala, že ve svém přátel ství k berňovům trochu ochladne; to tak! aby ten jejich pošetilý nápad, úóinkovati při slavnosti v obyčejném oděvu, přece zvítězil a dámám se bylo odříci těch půvabných krojů venkovských, co by si jen ona, paní adjunktová, počala s tou haldou brokátu, atlasu, krajek, stuh a aksamitu, za což vydala nejednu desítku, utěšujíc se tím, jak jí to bude slušeti! Hm, a škodu z toho také míti nebude, muž se bude musit po několik měsíců uskrovnit, služka se má beztoho též až příliš dobře, uhradí se to na domácnosti a bude! Nyní ujala se slova paní doktorka: „Aj, od berních to není nic divného, považte jen: tolik dětí! Vždyť my všecky víme, že kdyby sobě slečny toillety samy ne řídily, mnohého by nemohly míti; ony pak mají zásadu: nemá-li být něco pěkné, tož raději nic!\" „Pravda, ale slečny Elišky, té nejmladší, jest mně líto; těšila se velice na selský kroj.\" „Ba ano, byla by v něm vypadala roztomile.\" „Nyní má po radosti.\" „Inu, proč má tak nepřející matinku.\" „To není to, má drahá, jest v tom však jiný háček.\" „Ah, ano; vždyť víme, že sotva tak tak vyjdou.\" „Ale na knihy, které jsi tvá, jinak našel byste jen krytí těch mladých mozí, jinak je vydáte.\" „A tak bude, ostatně jdu až na knihy; ale slyšet jsem od někoho, že o krojech něco dělat, a že to bylo bude dělat národní, a když jsi tento národní učil jak, pak by měl nalézt tuto kartu, ta by se jistě mohla vyměnit se všemi. Můžete-li to od nás odkázat?\" Všem ozdravila její hlas, když řekla: „Já, já! a já ho učím. S těmi páne akademiky jsem již mohla vyprávět o světě, v němž vznítí v některé nocy a jednoho dne vyrostá vám hrozný kouzelný strom zůstane, o němž je psáno: ‚Už jen žádat!\" 50 V tuto chvíli koupili mohou-li všichni pánové i paní, že když jsi to čerpala, dá se jen kupit. Přižili to, a já jim vám koupi ukáži.\n",
    "„A já už jste tím vyděštila. Pánové, děkuji vám za chytré vědomí, se kterým vám projeví, že se už točí dívčí zrcadlo.\" – 151\"\"\"\n",
    "                \n",
    "get_improvement(compute_normalized_levenshtein_similarity(gt_text, ocr_text), \n",
    "                compute_normalized_levenshtein_similarity(gt_text, pred_text))\n",
    "\n",
    "\n",
    "# -0.7713953488372093"
   ]
  },
  {
   "cell_type": "code",
   "execution_count": 86,
   "id": "6de31d6f",
   "metadata": {},
   "outputs": [
    {
     "data": {
      "text/plain": [
       "0.9245323586325521"
      ]
     },
     "execution_count": 86,
     "metadata": {},
     "output_type": "execute_result"
    }
   ],
   "source": [
    "compute_normalized_levenshtein_similarity(gt_text, ocr_text)"
   ]
  },
  {
   "cell_type": "code",
   "execution_count": 87,
   "id": "35d29c48",
   "metadata": {},
   "outputs": [
    {
     "data": {
      "text/plain": [
       "0"
      ]
     },
     "execution_count": 87,
     "metadata": {},
     "output_type": "execute_result"
    }
   ],
   "source": [
    "gt_text = \"302.\"\n",
    "ocr_text = \"302.\"\n",
    "pred_text = \"302.\"\n",
    "\n",
    "get_improvement(compute_normalized_levenshtein_similarity(gt_text, ocr_text), \n",
    "                compute_normalized_levenshtein_similarity(gt_text, pred_text))\n",
    "\n"
   ]
  },
  {
   "cell_type": "code",
   "execution_count": 88,
   "id": "021c2fc6",
   "metadata": {},
   "outputs": [
    {
     "data": {
      "text/plain": [
       "(0.6666666666666666, 3)"
      ]
     },
     "execution_count": 88,
     "metadata": {},
     "output_type": "execute_result"
    }
   ],
   "source": [
    "gt_text = 'testing'\n",
    "ocr_text = 'reresting'\n",
    "pred_text = 'testing'\n",
    "\n",
    "compute_normalized_levenshtein_similarity(gt_text, ocr_text), distance(ocr_text, gt_text)"
   ]
  },
  {
   "cell_type": "code",
   "execution_count": 89,
   "id": "362c7e98",
   "metadata": {},
   "outputs": [
    {
     "data": {
      "text/plain": [
       "0.5"
      ]
     },
     "execution_count": 89,
     "metadata": {},
     "output_type": "execute_result"
    }
   ],
   "source": [
    "gt_text = 'testing'\n",
    "ocr_text = 'sfsdfresting'\n",
    "pred_text = 'testing'\n",
    "\n",
    "compute_normalized_levenshtein_similarity(gt_text, ocr_text)"
   ]
  },
  {
   "cell_type": "code",
   "execution_count": 90,
   "id": "af90e8c4",
   "metadata": {},
   "outputs": [
    {
     "name": "stdout",
     "output_type": "stream",
     "text": [
      "Levenshtein distance: 1\n",
      "Levenshtein similarity: 0.86\n"
     ]
    }
   ],
   "source": [
    "s1 = \"testing\"\n",
    "s2 = \"resting\"\n",
    "\n",
    "# Calculate the Levenshtein distance\n",
    "lev_distance = Levenshtein.distance(s1, s2)\n",
    "print(f\"Levenshtein distance: {lev_distance}\")\n",
    "\n",
    "# Calculate the Levenshtein similarity\n",
    "similarity = (max(len(s1), len(s2)) - lev_distance) / max(len(s1), len(s2))\n",
    "print(f\"Levenshtein similarity: {similarity:.2f}\")\n"
   ]
  },
  {
   "cell_type": "markdown",
   "id": "cc1ea900",
   "metadata": {},
   "source": [
    "### Post-process Methods"
   ]
  },
  {
   "cell_type": "markdown",
   "id": "7a920c41",
   "metadata": {},
   "source": [
    "Read the prompts so they can be removed from the models' answers."
   ]
  },
  {
   "cell_type": "code",
   "execution_count": 91,
   "id": "1219c12f",
   "metadata": {},
   "outputs": [],
   "source": [
    "import glob\n",
    "\n",
    "prompts = []\n",
    "\n",
    "file_list = glob.glob('../data/prompts/**/*.txt', recursive=True)\n",
    "\n",
    "prompts = [open(f).read() for f in file_list]\n",
    "\n",
    "#prompts = [text[:text.index('{{TEXT}}')].strip() for text in prompts]"
   ]
  },
  {
   "cell_type": "code",
   "execution_count": 92,
   "id": "e18a838a",
   "metadata": {},
   "outputs": [
    {
     "data": {
      "text/plain": [
       "'Corrige le texte suivant, ne rajoute absolument rien de superflu.'"
      ]
     },
     "execution_count": 92,
     "metadata": {},
     "output_type": "execute_result"
    }
   ],
   "source": [
    "prompts[0]"
   ]
  },
  {
   "cell_type": "markdown",
   "id": "c58618f5",
   "metadata": {},
   "source": [
    "Other texts to remove, so we get the actual answer:"
   ]
  },
  {
   "cell_type": "code",
   "execution_count": 93,
   "id": "cadd9a9d",
   "metadata": {},
   "outputs": [],
   "source": [
    "texts_to_remove = [\"ΔΙΟΡΘΩΜΈΝΟ ΚΕΊΜΕΝΟ:\", \"CORRECTED TEXT:\", \"КОРИГИРАН ТЕКСТ:\", \"OPRAVENÝ TEXT:\", \n",
    "                   \"KORRIGIERTER TEXT:\",\n",
    "                  \"TEXTO CORREGIDO:\", \"TEXTE CORRIGÉ:\", \"GECORRIGEERDE TEKST:\", \"POPRAWIONY TEKST:\",\n",
    "                  \"POPRAVLJENO BESEDILO:\", 'The corrected text:', 'The corrected text is:', \n",
    "                  'Corrected text:', 'Corrected text is:', \"The correct spelling and grammar are:\",\n",
    "                  \"TEXTE CORRIGÉ\", \"The correct text is:\"]"
   ]
  },
  {
   "cell_type": "code",
   "execution_count": 94,
   "id": "c55678d1",
   "metadata": {},
   "outputs": [],
   "source": [
    "def get_response(pred_text, ocr_text):\n",
    "    if pred_text is not None:\n",
    "        if type(pred_text) == str:\n",
    "            if len(pred_text.strip()) > 0:\n",
    "                if pred_text.startswith('\"'):\n",
    "                    pred_text = pred_text[1:]\n",
    "                if pred_text.endswith('\"'):\n",
    "                    pred_text = pred_text[:-1]\n",
    "\n",
    "            pred_text = pred_text.strip()\n",
    "            \n",
    "            processings = ''\n",
    "            \n",
    "            for prompt in prompts:\n",
    "                prompt = prompt.strip()\n",
    "                if prompt in pred_text:\n",
    "                    index_of_last_occurrence = pred_text.lower().rfind(prompt.lower())\n",
    "                    pred_text = pred_text[index_of_last_occurrence+len(prompt):].strip()\n",
    "                    processings += 'PROMPT-REMOVED' + '|'\n",
    "\n",
    "            for text in texts_to_remove:\n",
    "                text = text.strip()\n",
    "                if text in pred_text:\n",
    "                    index_of_last_occurrence = pred_text.lower().rfind(text.lower())\n",
    "                    pred_text = pred_text[index_of_last_occurrence+len(text):].strip()\n",
    "                    processings += f'[{text}]-REMOVED' + '|'\n",
    "            \n",
    "            original_len = len(pred_text)\n",
    "            # Enforce pred_text length limits relative to ocr_text\n",
    "            max_length = int(len(ocr_text) * 1.5)\n",
    "            if original_len > max_length:\n",
    "                pred_text = pred_text[:max_length]\n",
    "                processings += 'PRED-TEXT-TRUNCATED' + '|'\n",
    "                    \n",
    "            if 'There is no text provided to correct'.lower() in pred_text.lower():\n",
    "                return ocr_text, '[There is no text provided to correct]-ANSWER'\n",
    "            if 'No correction needed'.lower() in pred_text.lower():\n",
    "                return ocr_text, '[No correction needed]-ANSWER'\n",
    "            \n",
    "            # this last case will never happen - the data was re-run\n",
    "            if '{{TEXTE}}'.lower() in pred_text.lower():\n",
    "                return ocr_text, '{{TEXTE}}'\n",
    "    \n",
    "    if len(processings.strip()) < 2:\n",
    "        processings = 'NONE'\n",
    "        \n",
    "    return pd.Series([str(pred_text).strip(), processings.strip()])  \n",
    "\n",
    "def postprocess_segment_type(segment_type):\n",
    "    def postprocess(row):\n",
    "        pred_text = str(row[f'prediction.{segment_type}'])\n",
    "        ground_text = str(row[f'groundtruth.{segment_type}'])\n",
    "        ocr_text = str(row[f'ocr.{segment_type}'])\n",
    "        prompt_text = str(row['prompt_text'])\n",
    "        \n",
    "        pred_text = get_response(pred_text, ocr_text)\n",
    "        \n",
    "        return pred_text\n",
    "    return postprocess"
   ]
  },
  {
   "cell_type": "code",
   "execution_count": 95,
   "id": "d723da53-f5cc-4218-9736-582c95ce77b5",
   "metadata": {},
   "outputs": [
    {
     "data": {
      "text/plain": [
       "['ΔΙΟΡΘΩΜΈΝΟ ΚΕΊΜΕΝΟ:',\n",
       " 'CORRECTED TEXT:',\n",
       " 'КОРИГИРАН ТЕКСТ:',\n",
       " 'OPRAVENÝ TEXT:',\n",
       " 'KORRIGIERTER TEXT:',\n",
       " 'TEXTO CORREGIDO:',\n",
       " 'TEXTE CORRIGÉ:',\n",
       " 'GECORRIGEERDE TEKST:',\n",
       " 'POPRAWIONY TEKST:',\n",
       " 'POPRAVLJENO BESEDILO:',\n",
       " 'The corrected text:',\n",
       " 'The corrected text is:',\n",
       " 'Corrected text:',\n",
       " 'Corrected text is:',\n",
       " 'The correct spelling and grammar are:',\n",
       " 'TEXTE CORRIGÉ',\n",
       " 'The correct text is:']"
      ]
     },
     "execution_count": 95,
     "metadata": {},
     "output_type": "execute_result"
    }
   ],
   "source": [
    "texts_to_remove\n"
   ]
  },
  {
   "cell_type": "code",
   "execution_count": 96,
   "id": "050980fc",
   "metadata": {},
   "outputs": [
    {
     "ename": "SyntaxError",
     "evalue": "':' expected after dictionary key (3775283545.py, line 1)",
     "output_type": "error",
     "traceback": [
      "  \u001b[36mCell\u001b[39m\u001b[36m \u001b[39m\u001b[32mIn[96]\u001b[39m\u001b[32m, line 1\u001b[39m\n\u001b[31m    \u001b[39m\u001b[31mMODEL_MAP = {'GPT-4':'GPT-4', 'GPT-4.1'\u001b[39m\n                               ^\n\u001b[31mSyntaxError\u001b[39m\u001b[31m:\u001b[39m ':' expected after dictionary key\n"
     ]
    }
   ],
   "source": [
    "MODEL_MAP = {'gpt-4.1':'GPT-4.1',\n",
    "             'gpt-3.5-turbo':'GPT-3.5', \n",
    "             'gpt-4.1-mini' : 'GPT-4.1-MINI'\n",
    "             'google/gemma-3-27b-it': 'GEMMA-3-27B',\n",
    "             'meta-llama/llama-4-scout-17b-16e-instruct': 'LLAMA-4-SCOUT-7B',\n",
    "             'meta-llama/llama-4-maverick-17b-128e-instruct-fp8': 'LLAMA-4-MAVERICK-17B',\n",
    "             'deepseek/deepseek-v3-turbo': 'DEEPSEEK-V3'\n",
    "            }\n",
    "\n",
    "# Define OCR noise level bins\n",
    "bins = [0, 0.4, 0.6, 0.8, 0.99, 1.0]\n",
    "\n",
    "# Assign OCR noise level labels\n",
    "labels = [\"0-40%\", \"40-60%\", \"60-80%\", \"80-99%\", \"99-100%\"]\n",
    "\n",
    "# Custom binning function\n",
    "def bin_improvement(x):\n",
    "    if x < 0:\n",
    "        return \"Negative Improvement\"\n",
    "    elif x == 0:\n",
    "        return \"No Improvement\"\n",
    "    elif x > 0:\n",
    "        return \"Positive Improvement\"\n",
    "\n"
   ]
  },
  {
   "cell_type": "code",
   "execution_count": 24,
   "id": "d58caf20",
   "metadata": {},
   "outputs": [],
   "source": [
    "import os\n",
    "\n",
    "path = '../data/processed_data'\n",
    "os.makedirs(path, exist_ok=True)\n"
   ]
  },
  {
   "cell_type": "markdown",
   "id": "d4e47f1f",
   "metadata": {},
   "source": [
    "Not removing anymore the columns with < 1 token, but adding new columns for number of tokens and number of characters + mapping of the models' names to more understandable names."
   ]
  },
  {
   "cell_type": "code",
   "execution_count": 25,
   "id": "ced49b88",
   "metadata": {
    "scrolled": true
   },
   "outputs": [
    {
     "name": "stderr",
     "output_type": "stream",
     "text": [
      " 3"
     ]
    },
    {
     "name": "stdout",
     "output_type": "stream",
     "text": [
      "idx 0\n",
      "Models already mapped.\n",
      "Dataset: ina-last Model: o4-mini Prompt: prompt_basic_02 Prompt text: prompt_basic_02\n",
      "Saving to ../data/processed_data/ina-last_zero-shot_prompt_basic_02_o4-mini.csv\n",
      "idx 1\n",
      "Models already mapped.\n",
      "Dataset: ina-last Model: gpt-4.1 Prompt: prompt_basic_02 Prompt text: prompt_basic_02\n",
      "Saving to ../data/processed_data/ina-last_zero-shot_prompt_basic_02_gpt-4.1.csv\n",
      "idx 2\n",
      "Models already mapped.\n",
      "Dataset: ina-last Model: gpt-4.1-mini Prompt: prompt_complex_01 Prompt text: prompt_complex_01\n",
      "Saving to ../data/processed_data/ina-last_zero-shot_prompt_complex_01_gpt-4.1-mini.csv\n"
     ]
    },
    {
     "name": "stderr",
     "output_type": "stream",
     "text": [
      " 6"
     ]
    },
    {
     "name": "stdout",
     "output_type": "stream",
     "text": [
      "idx 3\n",
      "Models already mapped.\n",
      "Dataset: ina-last Model: gpt-3.5-turbo Prompt: prompt_complex_01 Prompt text: prompt_complex_01\n",
      "Saving to ../data/processed_data/ina-last_zero-shot_prompt_complex_01_gpt-3.5-turbo.csv\n",
      "idx 4\n",
      "Models already mapped.\n"
     ]
    },
    {
     "name": "stderr",
     "output_type": "stream",
     "text": [
      " 8"
     ]
    },
    {
     "name": "stdout",
     "output_type": "stream",
     "text": [
      "Dataset: ina-last Model: o4-mini Prompt: prompt_complex_01 Prompt text: prompt_complex_01\n",
      "Saving to ../data/processed_data/ina-last_zero-shot_prompt_complex_01_o4-mini.csv\n",
      "idx 5\n",
      "Models already mapped.\n",
      "Dataset: ina-last Model: gpt-4.1 Prompt: prompt_complex_01 Prompt text: prompt_complex_01\n"
     ]
    },
    {
     "name": "stderr",
     "output_type": "stream",
     "text": [
      "10"
     ]
    },
    {
     "name": "stdout",
     "output_type": "stream",
     "text": [
      "Saving to ../data/processed_data/ina-last_zero-shot_prompt_complex_01_gpt-4.1.csv\n"
     ]
    },
    {
     "name": "stderr",
     "output_type": "stream",
     "text": [
      "\n"
     ]
    }
   ],
   "source": [
    "def count_tokens(text):\n",
    "    return len(text.split(' '))\n",
    "\n",
    "for idx, result in tqdm(enumerate(results), total=len(results)):\n",
    "    print('idx', idx)\n",
    "    try:\n",
    "        results[idx] = results[idx].fillna('No text')\n",
    "    except:\n",
    "        print(idx)\n",
    "        pass\n",
    "    \n",
    "    try:\n",
    "        results[idx]['model'] = results[idx]['model'].apply(lambda x: MODEL_MAP[x])\n",
    "    except:\n",
    "        print(\"Models already mapped.\")\n",
    "        \n",
    "    dataset_name = results[idx]['dataset_name'].unique()[0]\n",
    "    model_name = results[idx]['model'].unique()[0]\n",
    "    prompt = results[idx]['prompt'].unique()[0]\n",
    "    prompt_text = results[idx]['prompt_text'].unique()[0]\n",
    "    run_type = results[idx]['type'].unique()[0]\n",
    "    \n",
    "    print('Dataset:', dataset_name, 'Model:', model_name, 'Prompt:', prompt, 'Prompt text:', prompt_text)\n",
    "    \n",
    "    text_types = ['line', 'sentence']\n",
    "    for segment_type in text_types:\n",
    "\n",
    "        postprocess = postprocess_segment_type(segment_type)\n",
    "        \n",
    "        # Keeping the original un-processed column\n",
    "        try:\n",
    "            results[idx][[f'prediction.{segment_type}.postprocessed','post-processings']] = results[idx].apply(postprocess, axis=1)\n",
    "        except Exception as ex:\n",
    "            print(f'-------Problem encountered at {idx}.', ex)\n",
    "            \n",
    "        results[idx]['length_prediction_tokens'] = results[idx][f'prediction.{segment_type}'].apply(count_tokens)\n",
    "#         results[idx] = results[idx][results[idx]['length_prediction_tokens'] > 0]\n",
    "    \n",
    "        results[idx]['length_ocr_tokens'] = results[idx][f'ocr.{segment_type}'].apply(count_tokens)\n",
    "#         results[idx] = results[idx][results[idx]['length_ocr_tokens'] > 0]\n",
    "        \n",
    "        results[idx]['length_groundtruth_tokens'] = results[idx][f'groundtruth.{segment_type}'].apply(count_tokens)\n",
    "#         results[idx] = results[idx][results[idx]['length_groundtruth_tokens'] > 0]\n",
    "        \n",
    "        results[idx]['length_groundtruth_chars'] = results[idx][f'groundtruth.{segment_type}'].apply(lambda x: len(str(x)))\n",
    "#         results[idx] = results[idx][results[idx]['length_groundtruth_chars'] > 0]\n",
    "\n",
    "        results[idx]['length_prediction_chars'] = results[idx][f'prediction.{segment_type}'].apply(lambda x: len(str(x)))\n",
    "\n",
    "        results[idx]['length_ocr_chars'] = results[idx][f'ocr.{segment_type}'].apply(lambda x: len(str(x)))\n",
    "\n",
    "        \n",
    "    print(f'Saving to ../data/processed_data/{dataset_name}_{run_type}_{prompt_text}_{model_name}.csv')\n",
    "    results[idx].to_csv(f\"../data/processed_data/{dataset_name}_{run_type}_{prompt_text}_{model_name}.parquet\") \n",
    "    \n",
    "    "
   ]
  },
  {
   "cell_type": "code",
   "execution_count": 26,
   "id": "121838b7",
   "metadata": {},
   "outputs": [],
   "source": [
    "for segment_type in ['sentence', 'line']:\n",
    "\n",
    "    results[1][[f'prediction.{segment_type}.postprocessed','post-processings']] = results[1].apply(postprocess, axis=1)\n"
   ]
  },
  {
   "cell_type": "code",
   "execution_count": 27,
   "id": "a7f0570a",
   "metadata": {},
   "outputs": [
    {
     "data": {
      "text/plain": [
       "True"
      ]
     },
     "execution_count": 27,
     "metadata": {},
     "output_type": "execute_result"
    }
   ],
   "source": [
    "f'prediction.{segment_type}.postprocessed' in results[0].columns\n"
   ]
  },
  {
   "cell_type": "code",
   "execution_count": 28,
   "id": "3724bcde",
   "metadata": {},
   "outputs": [
    {
     "name": "stderr",
     "output_type": "stream",
     "text": [
      "10"
     ]
    },
    {
     "name": "stdout",
     "output_type": "stream",
     "text": [
      "-- 0\n",
      "-- 1\n",
      "-- 2\n",
      "-- 3\n",
      "-- 4\n",
      "-- 5\n"
     ]
    },
    {
     "name": "stderr",
     "output_type": "stream",
     "text": [
      "\n"
     ]
    }
   ],
   "source": [
    "for idx, df in tqdm(enumerate(results), total=len(results)):\n",
    "    for segment_type in ['region', 'sentence']:\n",
    "        if f'prediction.{segment_type}.postprocessed' not in df.columns:\n",
    "            print('--', idx)\n"
   ]
  },
  {
   "cell_type": "code",
   "execution_count": 29,
   "id": "74494df0",
   "metadata": {},
   "outputs": [
    {
     "data": {
      "text/plain": [
       "0"
      ]
     },
     "execution_count": 29,
     "metadata": {},
     "output_type": "execute_result"
    }
   ],
   "source": [
    "import gc; gc.collect()"
   ]
  },
  {
   "cell_type": "code",
   "execution_count": 30,
   "id": "f2633a21",
   "metadata": {},
   "outputs": [
    {
     "data": {
      "text/plain": [
       "Index(['filename', 'dataset_name', 'ocr.line', 'ocr.sentence',\n",
       "       'groundtruth.line', 'groundtruth.sentence', 'prediction.prompt',\n",
       "       'prediction.line', 'prediction.sentence', 'model', 'prompt',\n",
       "       'prompt_text', 'type', 'language', 'file', 'name_of_file_idx',\n",
       "       'prediction.line.postprocessed', 'post-processings',\n",
       "       'length_prediction_tokens', 'length_ocr_tokens',\n",
       "       'length_groundtruth_tokens', 'length_groundtruth_chars',\n",
       "       'length_prediction_chars', 'length_ocr_chars',\n",
       "       'prediction.sentence.postprocessed'],\n",
       "      dtype='object')"
      ]
     },
     "execution_count": 30,
     "metadata": {},
     "output_type": "execute_result"
    }
   ],
   "source": [
    "results[idx].columns"
   ]
  },
  {
   "cell_type": "code",
   "execution_count": 31,
   "id": "6c7e7ac2",
   "metadata": {},
   "outputs": [
    {
     "data": {
      "text/html": [
       "<div>\n",
       "<style scoped>\n",
       "    .dataframe tbody tr th:only-of-type {\n",
       "        vertical-align: middle;\n",
       "    }\n",
       "\n",
       "    .dataframe tbody tr th {\n",
       "        vertical-align: top;\n",
       "    }\n",
       "\n",
       "    .dataframe thead th {\n",
       "        text-align: right;\n",
       "    }\n",
       "</style>\n",
       "<table border=\"1\" class=\"dataframe\">\n",
       "  <thead>\n",
       "    <tr style=\"text-align: right;\">\n",
       "      <th></th>\n",
       "      <th>filename</th>\n",
       "      <th>dataset_name</th>\n",
       "      <th>ocr.line</th>\n",
       "      <th>ocr.sentence</th>\n",
       "      <th>groundtruth.line</th>\n",
       "      <th>groundtruth.sentence</th>\n",
       "      <th>prediction.prompt</th>\n",
       "      <th>prediction.line</th>\n",
       "      <th>prediction.sentence</th>\n",
       "      <th>model</th>\n",
       "      <th>...</th>\n",
       "      <th>name_of_file_idx</th>\n",
       "      <th>prediction.line.postprocessed</th>\n",
       "      <th>post-processings</th>\n",
       "      <th>length_prediction_tokens</th>\n",
       "      <th>length_ocr_tokens</th>\n",
       "      <th>length_groundtruth_tokens</th>\n",
       "      <th>length_groundtruth_chars</th>\n",
       "      <th>length_prediction_chars</th>\n",
       "      <th>length_ocr_chars</th>\n",
       "      <th>prediction.sentence.postprocessed</th>\n",
       "    </tr>\n",
       "  </thead>\n",
       "  <tbody>\n",
       "    <tr>\n",
       "      <th>0</th>\n",
       "      <td>../../data/datasets/asr/original/ina/3_impress...</td>\n",
       "      <td>ina-last</td>\n",
       "      <td>décembre mille neuf cent quarante une réalisat...</td>\n",
       "      <td>décembre mille neuf cent quarante une réalisat...</td>\n",
       "      <td>Quinze décembre mille neuf cent quarante, une ...</td>\n",
       "      <td>Quinze décembre mille neuf cent quarante, une ...</td>\n",
       "      <td>Transcris un texte océrisé (extrait d'une numé...</td>\n",
       "      <td>décembre mille neuf cent quarante, une réalisa...</td>\n",
       "      <td>décembre mille neuf cent quarante, une réalisa...</td>\n",
       "      <td>gpt-4.1</td>\n",
       "      <td>...</td>\n",
       "      <td>results-ina_last-gpt-4.1.jsonl_0</td>\n",
       "      <td>décembre mille neuf cent quarante, une réalisa...</td>\n",
       "      <td>NONE</td>\n",
       "      <td>16</td>\n",
       "      <td>17</td>\n",
       "      <td>17</td>\n",
       "      <td>107</td>\n",
       "      <td>103</td>\n",
       "      <td>99</td>\n",
       "      <td>décembre mille neuf cent quarante, une réalisa...</td>\n",
       "    </tr>\n",
       "    <tr>\n",
       "      <th>1</th>\n",
       "      <td>../../data/datasets/asr/original/ina/3_impress...</td>\n",
       "      <td>ina-last</td>\n",
       "      <td>déjà trois années là cela se passait à la gare...</td>\n",
       "      <td>cela se passait à la gare de l'est vous s'étai...</td>\n",
       "      <td>Déjà trois années de cela. Cela se passait à l...</td>\n",
       "      <td>Cela se passait à la Gare de l'Est où s'étaien...</td>\n",
       "      <td>Transcris un texte océrisé (extrait d'une numé...</td>\n",
       "      <td>déjà trois années là cela se passait à la gare...</td>\n",
       "      <td>Cela se passait à la gare de l'Est. Vous s'éta...</td>\n",
       "      <td>gpt-4.1</td>\n",
       "      <td>...</td>\n",
       "      <td>results-ina_last-gpt-4.1.jsonl_1</td>\n",
       "      <td>déjà trois années là cela se passait à la gare...</td>\n",
       "      <td>NONE</td>\n",
       "      <td>35</td>\n",
       "      <td>37</td>\n",
       "      <td>34</td>\n",
       "      <td>201</td>\n",
       "      <td>204</td>\n",
       "      <td>203</td>\n",
       "      <td>Cela se passait à la gare de l'Est. Vous s'éta...</td>\n",
       "    </tr>\n",
       "    <tr>\n",
       "      <th>2</th>\n",
       "      <td>../../data/datasets/asr/original/ina/3_impress...</td>\n",
       "      <td>ina-last</td>\n",
       "      <td>au delà de pompiers vingt huit de la même car ...</td>\n",
       "      <td>delà de pompiers vingt huit de la même car</td>\n",
       "      <td>Cela se passait au quai vingt-huit de la même ...</td>\n",
       "      <td>Cela se passait au quai vingt-huit de la même ...</td>\n",
       "      <td>Transcris un texte océrisé (extrait d'une numé...</td>\n",
       "      <td>au-delà de pompiers vingt-huit de la même car ...</td>\n",
       "      <td>delà de pompiers vingt-huit de la même car</td>\n",
       "      <td>gpt-4.1</td>\n",
       "      <td>...</td>\n",
       "      <td>results-ina_last-gpt-4.1.jsonl_2</td>\n",
       "      <td>au-delà de pompiers vingt-huit de la même car ...</td>\n",
       "      <td>NONE</td>\n",
       "      <td>8</td>\n",
       "      <td>9</td>\n",
       "      <td>10</td>\n",
       "      <td>51</td>\n",
       "      <td>42</td>\n",
       "      <td>42</td>\n",
       "      <td>delà de pompiers vingt-huit de la même car</td>\n",
       "    </tr>\n",
       "    <tr>\n",
       "      <th>3</th>\n",
       "      <td>../../data/datasets/asr/original/ina/3_impress...</td>\n",
       "      <td>ina-last</td>\n",
       "      <td>se trouvait un cercueil de bronze à huit golde...</td>\n",
       "      <td>ce cercueil était celui d'un roi du roi de rom...</td>\n",
       "      <td>se trouvait un cercueil de bronze à huit gueul...</td>\n",
       "      <td>Ce cercueil était celui d'un roi, du roi de Ro...</td>\n",
       "      <td>Transcris un texte océrisé (extrait d'une numé...</td>\n",
       "      <td>Se trouvait un cercueil de bronze à huit golde...</td>\n",
       "      <td>Ce cercueil était celui d'un roi, du roi de Ro...</td>\n",
       "      <td>gpt-4.1</td>\n",
       "      <td>...</td>\n",
       "      <td>results-ina_last-gpt-4.1.jsonl_3</td>\n",
       "      <td>Se trouvait un cercueil de bronze à huit golde...</td>\n",
       "      <td>NONE</td>\n",
       "      <td>14</td>\n",
       "      <td>14</td>\n",
       "      <td>14</td>\n",
       "      <td>70</td>\n",
       "      <td>70</td>\n",
       "      <td>67</td>\n",
       "      <td>Ce cercueil était celui d'un roi, du roi de Ro...</td>\n",
       "    </tr>\n",
       "    <tr>\n",
       "      <th>4</th>\n",
       "      <td>../../data/datasets/asr/original/ina/3_impress...</td>\n",
       "      <td>ina-last</td>\n",
       "      <td>très froid même un grand silence règne sur les...</td>\n",
       "      <td>un grand silence règne sur les hommes et sur l...</td>\n",
       "      <td>très froid même. Un grand silence régnait sur ...</td>\n",
       "      <td>Un grand silence régnait sur les hommes et sur...</td>\n",
       "      <td>Transcris un texte océrisé (extrait d'une numé...</td>\n",
       "      <td>très froid même un grand silence règne sur les...</td>\n",
       "      <td>Un grand silence règne sur les hommes et sur l...</td>\n",
       "      <td>gpt-4.1</td>\n",
       "      <td>...</td>\n",
       "      <td>results-ina_last-gpt-4.1.jsonl_4</td>\n",
       "      <td>très froid même un grand silence règne sur les...</td>\n",
       "      <td>NONE</td>\n",
       "      <td>27</td>\n",
       "      <td>27</td>\n",
       "      <td>27</td>\n",
       "      <td>138</td>\n",
       "      <td>132</td>\n",
       "      <td>132</td>\n",
       "      <td>Un grand silence règne sur les hommes et sur l...</td>\n",
       "    </tr>\n",
       "  </tbody>\n",
       "</table>\n",
       "<p>5 rows × 25 columns</p>\n",
       "</div>"
      ],
      "text/plain": [
       "                                            filename dataset_name  \\\n",
       "0  ../../data/datasets/asr/original/ina/3_impress...     ina-last   \n",
       "1  ../../data/datasets/asr/original/ina/3_impress...     ina-last   \n",
       "2  ../../data/datasets/asr/original/ina/3_impress...     ina-last   \n",
       "3  ../../data/datasets/asr/original/ina/3_impress...     ina-last   \n",
       "4  ../../data/datasets/asr/original/ina/3_impress...     ina-last   \n",
       "\n",
       "                                            ocr.line  \\\n",
       "0  décembre mille neuf cent quarante une réalisat...   \n",
       "1  déjà trois années là cela se passait à la gare...   \n",
       "2  au delà de pompiers vingt huit de la même car ...   \n",
       "3  se trouvait un cercueil de bronze à huit golde...   \n",
       "4  très froid même un grand silence règne sur les...   \n",
       "\n",
       "                                        ocr.sentence  \\\n",
       "0  décembre mille neuf cent quarante une réalisat...   \n",
       "1  cela se passait à la gare de l'est vous s'étai...   \n",
       "2         delà de pompiers vingt huit de la même car   \n",
       "3  ce cercueil était celui d'un roi du roi de rom...   \n",
       "4  un grand silence règne sur les hommes et sur l...   \n",
       "\n",
       "                                    groundtruth.line  \\\n",
       "0  Quinze décembre mille neuf cent quarante, une ...   \n",
       "1  Déjà trois années de cela. Cela se passait à l...   \n",
       "2  Cela se passait au quai vingt-huit de la même ...   \n",
       "3  se trouvait un cercueil de bronze à huit gueul...   \n",
       "4  très froid même. Un grand silence régnait sur ...   \n",
       "\n",
       "                                groundtruth.sentence  \\\n",
       "0  Quinze décembre mille neuf cent quarante, une ...   \n",
       "1  Cela se passait à la Gare de l'Est où s'étaien...   \n",
       "2  Cela se passait au quai vingt-huit de la même ...   \n",
       "3  Ce cercueil était celui d'un roi, du roi de Ro...   \n",
       "4  Un grand silence régnait sur les hommes et sur...   \n",
       "\n",
       "                                   prediction.prompt  \\\n",
       "0  Transcris un texte océrisé (extrait d'une numé...   \n",
       "1  Transcris un texte océrisé (extrait d'une numé...   \n",
       "2  Transcris un texte océrisé (extrait d'une numé...   \n",
       "3  Transcris un texte océrisé (extrait d'une numé...   \n",
       "4  Transcris un texte océrisé (extrait d'une numé...   \n",
       "\n",
       "                                     prediction.line  \\\n",
       "0  décembre mille neuf cent quarante, une réalisa...   \n",
       "1  déjà trois années là cela se passait à la gare...   \n",
       "2  au-delà de pompiers vingt-huit de la même car ...   \n",
       "3  Se trouvait un cercueil de bronze à huit golde...   \n",
       "4  très froid même un grand silence règne sur les...   \n",
       "\n",
       "                                 prediction.sentence    model  ...  \\\n",
       "0  décembre mille neuf cent quarante, une réalisa...  gpt-4.1  ...   \n",
       "1  Cela se passait à la gare de l'Est. Vous s'éta...  gpt-4.1  ...   \n",
       "2         delà de pompiers vingt-huit de la même car  gpt-4.1  ...   \n",
       "3  Ce cercueil était celui d'un roi, du roi de Ro...  gpt-4.1  ...   \n",
       "4  Un grand silence règne sur les hommes et sur l...  gpt-4.1  ...   \n",
       "\n",
       "                   name_of_file_idx  \\\n",
       "0  results-ina_last-gpt-4.1.jsonl_0   \n",
       "1  results-ina_last-gpt-4.1.jsonl_1   \n",
       "2  results-ina_last-gpt-4.1.jsonl_2   \n",
       "3  results-ina_last-gpt-4.1.jsonl_3   \n",
       "4  results-ina_last-gpt-4.1.jsonl_4   \n",
       "\n",
       "                       prediction.line.postprocessed post-processings  \\\n",
       "0  décembre mille neuf cent quarante, une réalisa...             NONE   \n",
       "1  déjà trois années là cela se passait à la gare...             NONE   \n",
       "2  au-delà de pompiers vingt-huit de la même car ...             NONE   \n",
       "3  Se trouvait un cercueil de bronze à huit golde...             NONE   \n",
       "4  très froid même un grand silence règne sur les...             NONE   \n",
       "\n",
       "  length_prediction_tokens length_ocr_tokens length_groundtruth_tokens  \\\n",
       "0                       16                17                        17   \n",
       "1                       35                37                        34   \n",
       "2                        8                 9                        10   \n",
       "3                       14                14                        14   \n",
       "4                       27                27                        27   \n",
       "\n",
       "  length_groundtruth_chars length_prediction_chars  length_ocr_chars  \\\n",
       "0                      107                     103                99   \n",
       "1                      201                     204               203   \n",
       "2                       51                      42                42   \n",
       "3                       70                      70                67   \n",
       "4                      138                     132               132   \n",
       "\n",
       "                   prediction.sentence.postprocessed  \n",
       "0  décembre mille neuf cent quarante, une réalisa...  \n",
       "1  Cela se passait à la gare de l'Est. Vous s'éta...  \n",
       "2         delà de pompiers vingt-huit de la même car  \n",
       "3  Ce cercueil était celui d'un roi, du roi de Ro...  \n",
       "4  Un grand silence règne sur les hommes et sur l...  \n",
       "\n",
       "[5 rows x 25 columns]"
      ]
     },
     "execution_count": 31,
     "metadata": {},
     "output_type": "execute_result"
    }
   ],
   "source": [
    "results[idx].head()"
   ]
  },
  {
   "cell_type": "code",
   "execution_count": 32,
   "id": "875a5622",
   "metadata": {},
   "outputs": [
    {
     "data": {
      "text/plain": [
       "'Cela se passait à la gare de l’Est s’y étaient amassés à quelques mois de ce jour-là la foule énorme et combien silencieuse des hommes dans le fascicule portaient la mention immédiatement et sans de l’au'"
      ]
     },
     "execution_count": 32,
     "metadata": {},
     "output_type": "execute_result"
    }
   ],
   "source": [
    "results[-2].iloc[1]['prediction.sentence']"
   ]
  },
  {
   "cell_type": "code",
   "execution_count": 33,
   "id": "993574f1",
   "metadata": {},
   "outputs": [],
   "source": [
    "from tqdm import tqdm\n",
    "tqdm.pandas()\n"
   ]
  },
  {
   "cell_type": "code",
   "execution_count": 34,
   "id": "f4e90d87",
   "metadata": {
    "scrolled": true
   },
   "outputs": [
    {
     "name": "stderr",
     "output_type": "stream",
     "text": [
      "10\n"
     ]
    }
   ],
   "source": [
    "import glob\n",
    "from tqdm import tqdm\n",
    "\n",
    "for idx, result in tqdm(enumerate(results), total=len(results)):\n",
    "\n",
    "    # Extract basic metadata\n",
    "    dataset_name = results[idx]['dataset_name'].unique()[0]\n",
    "    model_name = results[idx]['model'].unique()[0]\n",
    "    prompt = results[idx]['prompt'].unique()[0]\n",
    "    prompt_text = results[idx]['prompt_text'].unique()[0]\n",
    "    run_type = results[idx]['type'].unique()[0]\n",
    "    \n",
    "    # Define the text types to process (excluding \"region\")\n",
    "    if 'icdar' in dataset_name:\n",
    "        text_types = ['sentence']\n",
    "    else:\n",
    "        text_types = ['line', 'sentence']\n",
    "        \n",
    "    # Process only the allowed text_types\n",
    "    for segment_type in text_types:\n",
    "        results[idx][f'{segment_type}-lev-ocr'] = results[idx].apply(\n",
    "            lambda x: compute_normalized_levenshtein_similarity(\n",
    "                x[f'groundtruth.{segment_type}'],\n",
    "                x[f'ocr.{segment_type}']\n",
    "            ), axis=1\n",
    "        )\n",
    "\n",
    "        results[idx][f'{segment_type}-lev-pred'] = results[idx].apply(\n",
    "            lambda x: compute_normalized_levenshtein_similarity(\n",
    "                x[f'groundtruth.{segment_type}'],\n",
    "                x[f'prediction.{segment_type}']\n",
    "            ), axis=1\n",
    "        )\n",
    "\n",
    "        results[idx][f'{segment_type}-lev-improvement'] = results[idx].apply(\n",
    "            lambda x: get_improvement(\n",
    "                x[f'{segment_type}-lev-ocr'],\n",
    "                x[f'{segment_type}-lev-pred']\n",
    "            ), axis=1\n",
    "        )\n",
    "    \n",
    "        # Create a quality band for OCR noise\n",
    "        results[idx][f\"quality-band-{segment_type}\"] = pd.cut(\n",
    "            results[idx][f'{segment_type}-lev-ocr'],\n",
    "            bins=bins, \n",
    "            labels=labels, \n",
    "            include_lowest=True\n",
    "        )\n",
    "\n",
    "        results[idx][f'{segment_type}-lev-pred-postprocessed'] = results[idx].apply(\n",
    "            lambda x: compute_normalized_levenshtein_similarity(\n",
    "                x[f'groundtruth.{segment_type}'],\n",
    "                x[f'prediction.{segment_type}.postprocessed']\n",
    "            ), axis=1\n",
    "        )\n",
    "\n",
    "        results[idx][f'{segment_type}-lev-improvement-postprocessed'] = results[idx].apply(\n",
    "            lambda x: get_improvement(\n",
    "                x[f'{segment_type}-lev-ocr'],\n",
    "                x[f'{segment_type}-lev-pred-postprocessed']\n",
    "            ), axis=1\n",
    "        )\n",
    "    \n",
    "    # Compute overall metrics without taking region into account\n",
    "    if 'icdar' in dataset_name:\n",
    "        # For icdar datasets, only \"sentence\" is processed\n",
    "        results[idx]['overall-levenshtein-improvement'] = results[idx]['sentence-lev-improvement']\n",
    "        results[idx]['overall-levenshtein-improvement-postprocessed'] = results[idx]['sentence-lev-improvement-postprocessed']\n",
    "        results[idx]['overall-lev-ocr'] = results[idx]['sentence-lev-ocr']\n",
    "    else:\n",
    "        # For other datasets, aggregate over \"line\" and \"sentence\"\n",
    "        results[idx]['overall-levenshtein-improvement'] = results[idx][['line-lev-improvement', \n",
    "                                                                        'sentence-lev-improvement']].mean(axis=1)\n",
    "        results[idx]['overall-levenshtein-improvement-postprocessed'] = results[idx][['line-lev-improvement-postprocessed', \n",
    "                                                                                       'sentence-lev-improvement-postprocessed']].mean(axis=1)\n",
    "        results[idx]['overall-lev-ocr'] = results[idx][['line-lev-ocr', \n",
    "                                                        'sentence-lev-ocr']].mean(axis=1)\n",
    "        \n",
    "    # Create a bin for overall improvement\n",
    "    results[idx]['improvement-band'] = results[idx]['overall-levenshtein-improvement'].apply(bin_improvement)\n",
    "    \n",
    "    # Ensure that any \"region\" related columns are removed from the final DataFrame.\n",
    "    region_cols = [col for col in results[idx].columns if 'region' in col]\n",
    "    results[idx].drop(columns=region_cols, inplace=True)\n",
    "    results[idx].drop(columns='prediction.prompt', errors='ignore', inplace=True)\n",
    "    # Save the DataFrame (now without any region columns)\n",
    "    #results[idx].to_parquet(f\"../data/processed_data/{dataset_name}_{run_type}_{prompt_text}_{model_name}-final.parquet\")\n",
    "    # Optionally, you can save as CSV:\n",
    "    results[idx].to_csv(f\"../data/processed_data/{dataset_name}_{run_type}_{prompt_text}_{model_name}-final.csv\")\n"
   ]
  },
  {
   "cell_type": "code",
   "execution_count": 35,
   "id": "59b66184",
   "metadata": {},
   "outputs": [
    {
     "name": "stdout",
     "output_type": "stream",
     "text": [
      "                                              filename dataset_name  \\\n",
      "0    ../../data/datasets/asr/original/ina/3_impress...     ina-last   \n",
      "1    ../../data/datasets/asr/original/ina/3_impress...     ina-last   \n",
      "2    ../../data/datasets/asr/original/ina/3_impress...     ina-last   \n",
      "3    ../../data/datasets/asr/original/ina/3_impress...     ina-last   \n",
      "4    ../../data/datasets/asr/original/ina/3_impress...     ina-last   \n",
      "..                                                 ...          ...   \n",
      "484  ../../data/datasets/asr/original/ina/4_impress...     ina-last   \n",
      "485  ../../data/datasets/asr/original/ina/4_impress...     ina-last   \n",
      "486  ../../data/datasets/asr/original/ina/4_impress...     ina-last   \n",
      "487  ../../data/datasets/asr/original/ina/4_impress...     ina-last   \n",
      "488  ../../data/datasets/asr/original/ina/4_impress...     ina-last   \n",
      "\n",
      "                                              ocr.line  \\\n",
      "0    décembre mille neuf cent quarante une réalisat...   \n",
      "1    déjà trois années là cela se passait à la gare...   \n",
      "2    au delà de pompiers vingt huit de la même car ...   \n",
      "3    se trouvait un cercueil de bronze à huit golde...   \n",
      "4    très froid même un grand silence règne sur les...   \n",
      "..                                                 ...   \n",
      "484  enfin la météorologie ce soir nous a fait savo...   \n",
      "485  et puis comme chaque week end trop de morts su...   \n",
      "486  le tiercé il fallait jouer le quatorze lasse l...   \n",
      "487  le tiercé il fallait jouer le quatorze lasse l...   \n",
      "488  il est vingt deux heures et onze minutes à fra...   \n",
      "\n",
      "                                          ocr.sentence  \\\n",
      "0    décembre mille neuf cent quarante une réalisat...   \n",
      "1    cela se passait à la gare de l'est vous s'étai...   \n",
      "2           delà de pompiers vingt huit de la même car   \n",
      "3    ce cercueil était celui d'un roi du roi de rom...   \n",
      "4    un grand silence règne sur les hommes et sur l...   \n",
      "..                                                 ...   \n",
      "484  bien sûr pour tout renseignement vous pouvez n...   \n",
      "485  et puis comme chaque week end trop de morts su...   \n",
      "486  le tiercé il fallait jouer le quatorze lasse l...   \n",
      "487  voici les rapports mille cent dix-huit virgule...   \n",
      "488  il est vingt deux heures et onze minutes à fra...   \n",
      "\n",
      "                                      groundtruth.line  \\\n",
      "0    Quinze décembre mille neuf cent quarante, une ...   \n",
      "1    Déjà trois années de cela. Cela se passait à l...   \n",
      "2    Cela se passait au quai vingt-huit de la même ...   \n",
      "3    se trouvait un cercueil de bronze à huit gueul...   \n",
      "4    très froid même. Un grand silence régnait sur ...   \n",
      "..                                                 ...   \n",
      "484  Enfin la météorologie ce soir nous a fait savo...   \n",
      "485  Et puis comme chaque week-end trop de morts su...   \n",
      "486  Le tiercé: il fallait jouer le quatorze, l'as,...   \n",
      "487  Le tiercé: il fallait jouer le quatorze, l'as,...   \n",
      "488  Il est vingt-deux heures et onze minutes à Fra...   \n",
      "\n",
      "                                  groundtruth.sentence  \\\n",
      "0    Quinze décembre mille neuf cent quarante, une ...   \n",
      "1    Cela se passait à la Gare de l'Est où s'étaien...   \n",
      "2    Cela se passait au quai vingt-huit de la même ...   \n",
      "3    Ce cercueil était celui d'un roi, du roi de Ro...   \n",
      "4    Un grand silence régnait sur les hommes et sur...   \n",
      "..                                                 ...   \n",
      "484  Bien sûr, pour tout renseignement, vous pouvez...   \n",
      "485  Et puis comme chaque week-end trop de morts su...   \n",
      "486  Le tiercé: il fallait jouer le quatorze, l'as,...   \n",
      "487  Voici les rapports: mille cent dix-huit francs...   \n",
      "488  Il est vingt-deux heures et onze minutes à Fra...   \n",
      "\n",
      "                                       prediction.line  \\\n",
      "0    décembre mille neuf cent quarante, une réalisa...   \n",
      "1    déjà trois années là cela se passait à la gare...   \n",
      "2    au-delà de pompiers vingt-huit de la même car ...   \n",
      "3    Se trouvait un cercueil de bronze à huit golde...   \n",
      "4    très froid même un grand silence règne sur les...   \n",
      "..                                                 ...   \n",
      "484  enfin la météorologie ce soir nous a fait savo...   \n",
      "485  et puis comme chaque week-end trop de morts su...   \n",
      "486  le tiercé il fallait jouer le quatorze l'as le...   \n",
      "487  le tiercé il fallait jouer le quatorze l'as le...   \n",
      "488  Il est vingt-deux heures et onze minutes à Fra...   \n",
      "\n",
      "                                   prediction.sentence    model  \\\n",
      "0    décembre mille neuf cent quarante, une réalisa...  gpt-4.1   \n",
      "1    Cela se passait à la gare de l'Est. Vous s'éta...  gpt-4.1   \n",
      "2           delà de pompiers vingt-huit de la même car  gpt-4.1   \n",
      "3    Ce cercueil était celui d'un roi, du roi de Ro...  gpt-4.1   \n",
      "4    Un grand silence règne sur les hommes et sur l...  gpt-4.1   \n",
      "..                                                 ...      ...   \n",
      "484  Bien sûr, pour tout renseignement, vous pouvez...  gpt-4.1   \n",
      "485  et puis comme chaque week-end trop de morts su...  gpt-4.1   \n",
      "486  le tiercé il fallait jouer le quatorze l’as et...  gpt-4.1   \n",
      "487  voici les rapports mille cent dix-huit virgule...  gpt-4.1   \n",
      "488  Il est vingt-deux heures et onze minutes à Fra...  gpt-4.1   \n",
      "\n",
      "                prompt  ... sentence-lev-ocr sentence-lev-pred  \\\n",
      "0    prompt_complex_01  ...         0.841121          0.878505   \n",
      "1    prompt_complex_01  ...         0.906404          0.926471   \n",
      "2    prompt_complex_01  ...         0.607843          0.627451   \n",
      "3    prompt_complex_01  ...         0.914286          1.000000   \n",
      "4    prompt_complex_01  ...         0.920290          0.934783   \n",
      "..                 ...  ...              ...               ...   \n",
      "484  prompt_complex_01  ...         0.938596          1.000000   \n",
      "485  prompt_complex_01  ...         0.935484          0.956989   \n",
      "486  prompt_complex_01  ...         0.872727          0.854545   \n",
      "487  prompt_complex_01  ...         0.912281          0.929825   \n",
      "488  prompt_complex_01  ...         0.906475          0.978417   \n",
      "\n",
      "    sentence-lev-improvement quality-band-sentence  \\\n",
      "0                   0.044444                80-99%   \n",
      "1                   0.022139                80-99%   \n",
      "2                   0.032258                60-80%   \n",
      "3                   0.093750                80-99%   \n",
      "4                   0.015748                80-99%   \n",
      "..                       ...                   ...   \n",
      "484                 0.065421                80-99%   \n",
      "485                 0.022989                80-99%   \n",
      "486                -0.020833                80-99%   \n",
      "487                 0.019231                80-99%   \n",
      "488                 0.079365                80-99%   \n",
      "\n",
      "    sentence-lev-pred-postprocessed sentence-lev-improvement-postprocessed  \\\n",
      "0                          0.878505                               0.044444   \n",
      "1                          0.926471                               0.022139   \n",
      "2                          0.627451                               0.032258   \n",
      "3                          1.000000                               0.093750   \n",
      "4                          0.934783                               0.015748   \n",
      "..                              ...                                    ...   \n",
      "484                        1.000000                               0.065421   \n",
      "485                        0.956989                               0.022989   \n",
      "486                        0.854545                              -0.020833   \n",
      "487                        0.929825                               0.019231   \n",
      "488                        0.978417                               0.079365   \n",
      "\n",
      "    overall-levenshtein-improvement  \\\n",
      "0                          0.044444   \n",
      "1                          0.013557   \n",
      "2                          0.023205   \n",
      "3                          0.063384   \n",
      "4                          0.007874   \n",
      "..                              ...   \n",
      "484                        0.039000   \n",
      "485                        0.022989   \n",
      "486                        0.001778   \n",
      "487                        0.021811   \n",
      "488                        0.079365   \n",
      "\n",
      "     overall-levenshtein-improvement-postprocessed  overall-lev-ocr  \\\n",
      "0                                         0.044444         0.841121   \n",
      "1                                         0.013557         0.893991   \n",
      "2                                         0.023205         0.702418   \n",
      "3                                         0.063384         0.918012   \n",
      "4                                         0.007874         0.921435   \n",
      "..                                             ...              ...   \n",
      "484                                       0.039000         0.952581   \n",
      "485                                       0.022989         0.935484   \n",
      "486                                       0.001778         0.887905   \n",
      "487                                       0.021811         0.907682   \n",
      "488                                       0.079365         0.906475   \n",
      "\n",
      "         improvement-band  \n",
      "0    Positive Improvement  \n",
      "1    Positive Improvement  \n",
      "2    Positive Improvement  \n",
      "3    Positive Improvement  \n",
      "4    Positive Improvement  \n",
      "..                    ...  \n",
      "484  Positive Improvement  \n",
      "485  Positive Improvement  \n",
      "486  Positive Improvement  \n",
      "487  Positive Improvement  \n",
      "488  Positive Improvement  \n",
      "\n",
      "[489 rows x 40 columns]\n"
     ]
    }
   ],
   "source": [
    "print(result)"
   ]
  },
  {
   "cell_type": "code",
   "execution_count": 36,
   "id": "6814a92d",
   "metadata": {},
   "outputs": [
    {
     "data": {
      "text/plain": [
       "filename                                         ../../data/datasets/asr/original/ina/3_impress...\n",
       "dataset_name                                                                              ina-last\n",
       "ocr.line                                         décembre mille neuf cent quarante une réalisat...\n",
       "ocr.sentence                                     décembre mille neuf cent quarante une réalisat...\n",
       "groundtruth.line                                 Quinze décembre mille neuf cent quarante, une ...\n",
       "groundtruth.sentence                             Quinze décembre mille neuf cent quarante, une ...\n",
       "prediction.line                                  décembre mille neuf cent quarante, une réalisa...\n",
       "prediction.sentence                              décembre mille neuf cent quarante, une réalisa...\n",
       "model                                                                                      gpt-4.1\n",
       "prompt                                                                           prompt_complex_01\n",
       "prompt_text                                                                      prompt_complex_01\n",
       "type                                                                                     zero-shot\n",
       "language                                                                                        fr\n",
       "file                                                                results-ina_last-gpt-4.1.jsonl\n",
       "name_of_file_idx                                                  results-ina_last-gpt-4.1.jsonl_0\n",
       "prediction.line.postprocessed                    décembre mille neuf cent quarante, une réalisa...\n",
       "post-processings                                                                              NONE\n",
       "length_prediction_tokens                                                                        16\n",
       "length_ocr_tokens                                                                               17\n",
       "length_groundtruth_tokens                                                                       17\n",
       "length_groundtruth_chars                                                                       107\n",
       "length_prediction_chars                                                                        103\n",
       "length_ocr_chars                                                                                99\n",
       "prediction.sentence.postprocessed                décembre mille neuf cent quarante, une réalisa...\n",
       "line-lev-ocr                                                                              0.841121\n",
       "line-lev-pred                                                                             0.878505\n",
       "line-lev-improvement                                                                      0.044444\n",
       "quality-band-line                                                                           80-99%\n",
       "line-lev-pred-postprocessed                                                               0.878505\n",
       "line-lev-improvement-postprocessed                                                        0.044444\n",
       "sentence-lev-ocr                                                                          0.841121\n",
       "sentence-lev-pred                                                                         0.878505\n",
       "sentence-lev-improvement                                                                  0.044444\n",
       "quality-band-sentence                                                                       80-99%\n",
       "sentence-lev-pred-postprocessed                                                           0.878505\n",
       "sentence-lev-improvement-postprocessed                                                    0.044444\n",
       "overall-levenshtein-improvement                                                           0.044444\n",
       "overall-levenshtein-improvement-postprocessed                                             0.044444\n",
       "overall-lev-ocr                                                                           0.841121\n",
       "improvement-band                                                              Positive Improvement\n",
       "Name: 0, dtype: object"
      ]
     },
     "execution_count": 36,
     "metadata": {},
     "output_type": "execute_result"
    }
   ],
   "source": [
    "results[idx].iloc[0]"
   ]
  },
  {
   "cell_type": "code",
   "execution_count": null,
   "id": "df2e6906",
   "metadata": {},
   "outputs": [],
   "source": []
  },
  {
   "cell_type": "code",
   "execution_count": null,
   "id": "14104612",
   "metadata": {},
   "outputs": [],
   "source": []
  },
  {
   "cell_type": "code",
   "execution_count": 37,
   "id": "05438ec5",
   "metadata": {},
   "outputs": [],
   "source": [
    "import os\n",
    "import tarfile\n",
    "import glob\n",
    "import pandas as pd\n",
    "\n",
    "def read_csvs_from_archives(archive_folder):\n",
    "    \"\"\"\n",
    "    Read all CSV files within the archives in a specified folder into a list of DataFrames.\n",
    "\n",
    "    Parameters:\n",
    "        archive_folder (str): Path to the folder containing the archive files.\n",
    "\n",
    "    Returns:\n",
    "        List[pd.DataFrame]: A list of DataFrames created from the CSV files.\n",
    "    \"\"\"\n",
    "    results = []\n",
    "    \n",
    "    # Fetch all .tar.gz files in the specified folder\n",
    "    archive_paths = glob.glob(os.path.join(archive_folder, '*.tar.gz'))\n",
    "    \n",
    "    for archive_path in archive_paths:\n",
    "        with tarfile.open(archive_path, \"r:gz\") as tar:\n",
    "            for member in tar.getmembers():\n",
    "                if member.name.endswith(\".csv\"):\n",
    "                    # Extract the file from the archive to a temporary path\n",
    "                    temp_path = os.path.join(\"/tmp\", member.name)\n",
    "                    tar.extract(member, path=\"/tmp\")\n",
    "                    \n",
    "                    # Read the CSV file into a DataFrame and add it to the results\n",
    "                    df = pd.read_csv(temp_path)\n",
    "                    results.append(df)\n",
    "                    \n",
    "                    # Delete the temporary file\n",
    "                    os.remove(temp_path)\n",
    "    \n",
    "    return results\n",
    "\n",
    "if os.path.exists('./output_archives'):\n",
    "    results = read_csvs_from_archives(archive_paths)"
   ]
  },
  {
   "cell_type": "code",
   "execution_count": null,
   "id": "446ee788",
   "metadata": {},
   "outputs": [],
   "source": []
  },
  {
   "cell_type": "markdown",
   "id": "dee16de0",
   "metadata": {},
   "source": [
    "## Step 3: Preparing the final results (results concatenation + generating quality bands, etc.)\n"
   ]
  },
  {
   "cell_type": "code",
   "execution_count": 38,
   "id": "7756144d",
   "metadata": {},
   "outputs": [
    {
     "data": {
      "text/plain": [
       "2451"
      ]
     },
     "execution_count": 38,
     "metadata": {},
     "output_type": "execute_result"
    }
   ],
   "source": [
    "data = pd.concat(results)\n",
    "\n",
    "len(data)"
   ]
  },
  {
   "cell_type": "code",
   "execution_count": 39,
   "id": "9300d6b5",
   "metadata": {
    "scrolled": true
   },
   "outputs": [
    {
     "data": {
      "text/plain": [
       "array(['o4-mini', 'gpt-4.1', 'gpt-4.1-mini', 'gpt-3.5-turbo'],\n",
       "      dtype=object)"
      ]
     },
     "execution_count": 39,
     "metadata": {},
     "output_type": "execute_result"
    }
   ],
   "source": [
    "data.model.unique()\n"
   ]
  },
  {
   "cell_type": "code",
   "execution_count": 40,
   "id": "c4c0f624",
   "metadata": {},
   "outputs": [
    {
     "data": {
      "text/plain": [
       "array(['prompt_basic_02', 'prompt_complex_01'], dtype=object)"
      ]
     },
     "execution_count": 40,
     "metadata": {},
     "output_type": "execute_result"
    }
   ],
   "source": [
    "data.prompt.unique()\n"
   ]
  },
  {
   "cell_type": "code",
   "execution_count": 41,
   "id": "46142eab",
   "metadata": {},
   "outputs": [
    {
     "data": {
      "text/plain": [
       "Index(['filename', 'dataset_name', 'ocr.line', 'ocr.sentence',\n",
       "       'groundtruth.line', 'groundtruth.sentence', 'prediction.line',\n",
       "       'prediction.sentence', 'model', 'prompt', 'prompt_text', 'type',\n",
       "       'language', 'file', 'name_of_file_idx', 'prediction.line.postprocessed',\n",
       "       'post-processings', 'length_prediction_tokens', 'length_ocr_tokens',\n",
       "       'length_groundtruth_tokens', 'length_groundtruth_chars',\n",
       "       'length_prediction_chars', 'length_ocr_chars',\n",
       "       'prediction.sentence.postprocessed', 'line-lev-ocr', 'line-lev-pred',\n",
       "       'line-lev-improvement', 'quality-band-line',\n",
       "       'line-lev-pred-postprocessed', 'line-lev-improvement-postprocessed',\n",
       "       'sentence-lev-ocr', 'sentence-lev-pred', 'sentence-lev-improvement',\n",
       "       'quality-band-sentence', 'sentence-lev-pred-postprocessed',\n",
       "       'sentence-lev-improvement-postprocessed',\n",
       "       'overall-levenshtein-improvement',\n",
       "       'overall-levenshtein-improvement-postprocessed', 'overall-lev-ocr',\n",
       "       'improvement-band'],\n",
       "      dtype='object')"
      ]
     },
     "execution_count": 41,
     "metadata": {},
     "output_type": "execute_result"
    }
   ],
   "source": [
    "data.keys()"
   ]
  },
  {
   "cell_type": "code",
   "execution_count": 42,
   "id": "f0e0847a",
   "metadata": {},
   "outputs": [
    {
     "data": {
      "text/plain": [
       "5"
      ]
     },
     "execution_count": 42,
     "metadata": {},
     "output_type": "execute_result"
    }
   ],
   "source": [
    "import glob\n",
    "\n",
    "parquet_paths = glob.glob(os.path.join('../data/processed_data/', '*final.parquet'))\n",
    "len(parquet_paths)\n"
   ]
  },
  {
   "cell_type": "code",
   "execution_count": null,
   "id": "aae595ba",
   "metadata": {},
   "outputs": [],
   "source": []
  },
  {
   "cell_type": "markdown",
   "id": "b5b541a3",
   "metadata": {},
   "source": [
    "# Sampling"
   ]
  },
  {
   "cell_type": "code",
   "execution_count": 43,
   "id": "5b03dc78",
   "metadata": {},
   "outputs": [
    {
     "data": {
      "text/plain": [
       "Index(['filename', 'dataset_name', 'ocr.line', 'ocr.sentence',\n",
       "       'groundtruth.line', 'groundtruth.sentence', 'prediction.line',\n",
       "       'prediction.sentence', 'model', 'prompt', 'prompt_text', 'type',\n",
       "       'language', 'file', 'name_of_file_idx', 'prediction.line.postprocessed',\n",
       "       'post-processings', 'length_prediction_tokens', 'length_ocr_tokens',\n",
       "       'length_groundtruth_tokens', 'length_groundtruth_chars',\n",
       "       'length_prediction_chars', 'length_ocr_chars',\n",
       "       'prediction.sentence.postprocessed', 'line-lev-ocr', 'line-lev-pred',\n",
       "       'line-lev-improvement', 'quality-band-line',\n",
       "       'line-lev-pred-postprocessed', 'line-lev-improvement-postprocessed',\n",
       "       'sentence-lev-ocr', 'sentence-lev-pred', 'sentence-lev-improvement',\n",
       "       'quality-band-sentence', 'sentence-lev-pred-postprocessed',\n",
       "       'sentence-lev-improvement-postprocessed',\n",
       "       'overall-levenshtein-improvement',\n",
       "       'overall-levenshtein-improvement-postprocessed', 'overall-lev-ocr',\n",
       "       'improvement-band'],\n",
       "      dtype='object')"
      ]
     },
     "execution_count": 43,
     "metadata": {},
     "output_type": "execute_result"
    }
   ],
   "source": [
    "data.keys()"
   ]
  },
  {
   "cell_type": "code",
   "execution_count": 44,
   "id": "36f8e6f6",
   "metadata": {},
   "outputs": [
    {
     "data": {
      "text/plain": [
       "np.float64(-40.00597978015532)"
      ]
     },
     "execution_count": 44,
     "metadata": {},
     "output_type": "execute_result"
    }
   ],
   "source": [
    "sum(data['overall-levenshtein-improvement-postprocessed'].unique())"
   ]
  },
  {
   "cell_type": "code",
   "execution_count": 45,
   "id": "5763e40d",
   "metadata": {},
   "outputs": [
    {
     "name": "stderr",
     "output_type": "stream",
     "text": [
      "10\n"
     ]
    }
   ],
   "source": [
    "for idx, result in tqdm(enumerate(results), total=len(results)):\n",
    "\n",
    "    dataset_name = results[idx]['dataset_name'].unique()[0]\n",
    "    model_name = results[idx]['model'].unique()[0]\n",
    "    prompt = results[idx]['prompt'].unique()[0]\n",
    "    prompt_text = results[idx]['prompt_text'].unique()[0]\n",
    "    run_type = results[idx]['type'].unique()[0]\n",
    "    \n",
    "    if 'icdar' in dataset_name:\n",
    "        text_types = ['sentence']\n",
    "    else:\n",
    "        text_types = ['line', 'sentence']\n",
    "        \n",
    "    if 'icdar' in dataset_name:\n",
    "        results[idx][f'overall-lev-ocr'] = results[idx][[f'sentence-lev-ocr']].mean(axis=1)\n",
    "    else:\n",
    "        results[idx][f'overall-lev-ocr'] = results[idx][[f'line-lev-ocr', \n",
    "                                                         f'sentence-lev-ocr']].mean(axis=1)\n",
    "        \n",
    "    results[idx].to_parquet(f\"../data/processed_data/{dataset_name}_{run_type}_{prompt_text}_{model_name}-final.parquet\") \n"
   ]
  },
  {
   "cell_type": "code",
   "execution_count": 46,
   "id": "b9ddf908",
   "metadata": {},
   "outputs": [
    {
     "data": {
      "text/plain": [
       "2451"
      ]
     },
     "execution_count": 46,
     "metadata": {},
     "output_type": "execute_result"
    }
   ],
   "source": [
    "data = pd.concat(results)\n",
    "\n",
    "len(data)"
   ]
  },
  {
   "cell_type": "code",
   "execution_count": 47,
   "id": "40715ba4",
   "metadata": {},
   "outputs": [],
   "source": [
    "\n",
    "data[f\"Quality Band\"] = pd.cut(data['overall-lev-ocr'], \n",
    "                               bins=bins, labels=labels, include_lowest=True)"
   ]
  },
  {
   "cell_type": "code",
   "execution_count": 48,
   "id": "fa107d5b",
   "metadata": {},
   "outputs": [
    {
     "data": {
      "text/plain": [
       "['80-99%', '60-80%', '0-40%', '40-60%']\n",
       "Categories (5, object): ['0-40%' < '40-60%' < '60-80%' < '80-99%' < '99-100%']"
      ]
     },
     "execution_count": 48,
     "metadata": {},
     "output_type": "execute_result"
    }
   ],
   "source": [
    "data[f\"Quality Band\"].unique()"
   ]
  },
  {
   "cell_type": "code",
   "execution_count": 49,
   "id": "b0f342dd",
   "metadata": {},
   "outputs": [],
   "source": [
    "data_zero_shot = data[data['type'] == 'zero-shot']\n"
   ]
  },
  {
   "cell_type": "code",
   "execution_count": 50,
   "id": "50871bb6",
   "metadata": {},
   "outputs": [],
   "source": [
    "columns = ['language', 'filename', 'dataset_name', \n",
    "        'groundtruth.line', 'ocr.line',  'prediction.line', 'prediction.line.postprocessed',\n",
    "        'groundtruth.sentence', 'ocr.sentence', 'prediction.sentence', 'prediction.sentence.postprocessed', 'ocr.region',  'prediction.region',  'prediction.region.postprocessed',  'post-processings', \n",
    "        'overall-lev-ocr', 'Quality Band', 'overall-levenshtein-improvement','prediction.prompt', \n",
    "       'model', 'prompt', 'prompt_text', 'type', 'file',\n",
    "       'name_of_file_idx', \n",
    "      'length_prediction_tokens', 'length_ocr_tokens',\n",
    "       'length_groundtruth_tokens', 'length_groundtruth_chars',\n",
    "       'length_prediction_chars', 'length_ocr_chars',\n",
    "       'sentence-lev-ocr',\n",
    "       'sentence-lev-pred', 'sentence-lev-improvement',\n",
    "       'quality-band-sentence-postprocessed',\n",
    "       'sentence-lev-pred-postprocessed',\n",
    "       'sentence-lev-improvement-postprocessed',\n",
    "       'overall-levenshtein-improvement-postprocessed', 'improvement-band',\n",
    "       'line-lev-ocr', 'line-lev-pred', 'line-lev-improvement',\n",
    "       'quality-band-line-postprocessed', 'line-lev-pred-postprocessed',\n",
    "       'line-lev-improvement-postprocessed', 'article_id', 'File', 'Date',\n",
    "       'Type', 'NbAlignedChar', 'century']"
   ]
  },
  {
   "cell_type": "code",
   "execution_count": 51,
   "id": "a172195f",
   "metadata": {},
   "outputs": [
    {
     "data": {
      "text/plain": [
       "array(['fr'], dtype=object)"
      ]
     },
     "execution_count": 51,
     "metadata": {},
     "output_type": "execute_result"
    }
   ],
   "source": [
    "data.language.unique()"
   ]
  },
  {
   "cell_type": "code",
   "execution_count": 52,
   "id": "6a0d73b4",
   "metadata": {},
   "outputs": [
    {
     "data": {
      "text/plain": [
       "['80-99%', '60-80%', '0-40%', '40-60%']\n",
       "Categories (5, object): ['0-40%' < '40-60%' < '60-80%' < '80-99%' < '99-100%']"
      ]
     },
     "execution_count": 52,
     "metadata": {},
     "output_type": "execute_result"
    }
   ],
   "source": [
    "data_zero_shot['Quality Band'].unique()"
   ]
  },
  {
   "cell_type": "markdown",
   "id": "419e8925",
   "metadata": {},
   "source": [
    "## Step 3: Sampling for analysis"
   ]
  },
  {
   "cell_type": "code",
   "execution_count": 53,
   "id": "02af7cb4",
   "metadata": {},
   "outputs": [
    {
     "data": {
      "text/plain": [
       "array(['o4-mini', 'gpt-4.1', 'gpt-4.1-mini', 'gpt-3.5-turbo'],\n",
       "      dtype=object)"
      ]
     },
     "execution_count": 53,
     "metadata": {},
     "output_type": "execute_result"
    }
   ],
   "source": [
    "data_zero_shot.model.unique()"
   ]
  },
  {
   "cell_type": "code",
   "execution_count": 54,
   "id": "230c9431",
   "metadata": {},
   "outputs": [
    {
     "data": {
      "text/plain": [
       "array(['prompt_basic_02', 'prompt_complex_01'], dtype=object)"
      ]
     },
     "execution_count": 54,
     "metadata": {},
     "output_type": "execute_result"
    }
   ],
   "source": [
    "data_zero_shot.prompt.unique()"
   ]
  },
  {
   "cell_type": "code",
   "execution_count": 55,
   "id": "ba4147f3",
   "metadata": {},
   "outputs": [
    {
     "name": "stderr",
     "output_type": "stream",
     "text": [
      "10"
     ]
    },
    {
     "name": "stdout",
     "output_type": "stream",
     "text": [
      "Nothing was found for ajmc-mixed\n",
      "Nothing was found for ajmc-primary-text\n",
      "Nothing was found for htrec\n",
      "Nothing was found for impresso-nzz\n",
      "Nothing was found for ina\n",
      "Nothing was found for icdar-2017\n",
      "Nothing was found for icdar-2019\n",
      "Nothing was found for overproof\n"
     ]
    },
    {
     "name": "stderr",
     "output_type": "stream",
     "text": [
      "\n"
     ]
    }
   ],
   "source": [
    "import numpy as np\n",
    "import pandas as pd\n",
    "from tqdm import tqdm\n",
    "from datetime import datetime\n",
    "\n",
    "today = datetime.now().strftime('%d%B')\n",
    "path = f'../data/samples/{today}'\n",
    "os.makedirs(path, exist_ok=True)\n",
    "\n",
    "dataset_names = data_zero_shot.dataset_name.unique()\n",
    "quality_bands = [\"0-40%\", \"40-60%\", \"60-80%\", \"80-99%\", \"99-100%\"]\n",
    "dataset_names = ['ajmc-mixed', 'ajmc-primary-text', 'htrec', 'impresso-nzz', 'ina', 'icdar-2017', 'icdar-2019', 'overproof']\n",
    "model_names = ['BLOOMZ-7.1B', 'LLAMA-2-7B', 'GPT-4']\n",
    "prompts = ['prompt_complex_01', 'prompt_basic_02']\n",
    "\n",
    "# Iterate over all unique datasets\n",
    "for dataset in tqdm(dataset_names):\n",
    "    sample_list = []\n",
    "    \n",
    "    # Pre-filter the dataset\n",
    "    data_for_current_dataset = data_zero_shot[data_zero_shot['dataset_name'] == dataset]\n",
    "    \n",
    "    # Fetch unique values for current dataset\n",
    "    dataset_languages = data_for_current_dataset['language'].unique()\n",
    "    languages = ['en', 'fr', 'el', 'de']\n",
    "    \n",
    "#     prompts = data_for_current_dataset['prompt'].unique()\n",
    "#     models = data_for_current_dataset['model'].unique()\n",
    "#     improvement_bands = data_for_current_dataset['improvement-band'].unique()\n",
    "    \n",
    "    for language in languages:\n",
    "        if language in dataset_languages:\n",
    "            groundtruth_samples = data_for_current_dataset[\n",
    "                    (data_for_current_dataset['language'] == language) &\n",
    "                    (data_for_current_dataset['groundtruth.sentence'].str.len() > 10)\n",
    "                    ]\n",
    "\n",
    "    #         print(len(groundtruth_samples))\n",
    "            # If you have a large number of groundtruth samples, consider sampling a subset\n",
    "            sample_size = min(len(groundtruth_samples), 50)  # You can adjust this value\n",
    "            groundtruth_samples = groundtruth_samples.sample(sample_size)\n",
    "#             print('Sampling:', len(groundtruth_samples))\n",
    "\n",
    "            for idx, gt_sample in groundtruth_samples.iterrows():\n",
    "                for prompt in prompts:\n",
    "                    for model in model_names:\n",
    "                        for quality_band in quality_bands:\n",
    "#                             for improvement_band in improvement_bands:\n",
    "                                if dataset not in ['icdar-2019', 'icdar-2017']:\n",
    "                                    subset = data_for_current_dataset[\n",
    "                                        (data_for_current_dataset['language'] == language) &\n",
    "                                        (data_for_current_dataset['prompt'] == prompt) &\n",
    "                                        (data_for_current_dataset['model'] == model) &\n",
    "#                                         (data_for_current_dataset['improvement-band'] == improvement_band) &\n",
    "                                        (data_for_current_dataset['Quality Band'] == quality_band) &\n",
    "                                        (data_for_current_dataset['groundtruth.line'] == gt_sample['groundtruth.line']) &\n",
    "                                        (data_for_current_dataset['groundtruth.sentence'] == gt_sample['groundtruth.sentence'])                                    ]\n",
    "                                else:\n",
    "                                    subset = data_for_current_dataset[\n",
    "                                        (data_for_current_dataset['language'] == language) &\n",
    "                                        (data_for_current_dataset['prompt'] == prompt) &\n",
    "                                        (data_for_current_dataset['model'] == model) &\n",
    "#                                         (data_for_current_dataset['improvement-band'] == improvement_band) &\n",
    "                                        (data_for_current_dataset['Quality Band'] == quality_band) &\n",
    "                                        (data_for_current_dataset['groundtruth.sentence'] == gt_sample['groundtruth.sentence'])                                    ]\n",
    "                                if not subset.empty:\n",
    "                                    sample = subset.sample(2, random_state=2023, replace=True)\n",
    "                                    sample_list.append(sample)\n",
    "    #                                 print(dataset, prompt, model, quality_band, improvement_band, len(sample_list))\n",
    "\n",
    "    if sample_list:\n",
    "        sample_df = pd.concat(sample_list, ignore_index=True)\n",
    "        \n",
    "        sample_df = sample_df[columns]\n",
    "        \n",
    "        sample_df = sample_df.drop(['length', 'NbAlignedChar', 'prompt_text', 'prediction.prompt', 'century'], axis=1)\n",
    "        \n",
    "        sample_df.to_csv(os.path.join(path, f'ResultsGPT_{dataset}_Sample_{today}.csv'), index=False)    \n",
    "        print(f'Saved to', os.path.join(path, f'ResultsGPT_{dataset}_Sample_{today}.csv'))\n",
    "    else:\n",
    "        print(f'Nothing was found for {dataset}')"
   ]
  },
  {
   "cell_type": "code",
   "execution_count": null,
   "id": "d53abc7e",
   "metadata": {},
   "outputs": [],
   "source": []
  },
  {
   "cell_type": "code",
   "execution_count": null,
   "id": "edefe08c",
   "metadata": {},
   "outputs": [],
   "source": []
  },
  {
   "cell_type": "code",
   "execution_count": null,
   "id": "0c37ae13",
   "metadata": {},
   "outputs": [],
   "source": []
  },
  {
   "cell_type": "markdown",
   "id": "27599ac0",
   "metadata": {},
   "source": [
    "### Order columns"
   ]
  },
  {
   "cell_type": "code",
   "execution_count": 56,
   "id": "9d91bd27",
   "metadata": {},
   "outputs": [],
   "source": [
    "# sample_df = sample_df.drop(['length', 'NbAlignedChar', 'prompt_text', 'File'], axis=1)"
   ]
  },
  {
   "cell_type": "code",
   "execution_count": 57,
   "id": "6cd36acb",
   "metadata": {},
   "outputs": [],
   "source": [
    "\n",
    "# # 'index', \n",
    "# order = ['filename', 'dataset_name', 'model', 'language', 'prompt', \n",
    "#          'Overall Levenshtein Improvement', 'Quality Band', 'Improvement Band',\n",
    "#          'ocr.line', 'groundtruth.line', 'prediction.line', \n",
    "#          'line-lev-ocr', 'line-lev-pred', 'line-lev-improvement',\n",
    "#          'ocr.sentence', 'groundtruth.sentence', 'prediction.sentence', \n",
    "#          'sentence-lev-ocr', 'sentence-lev-pred', 'sentence-lev-improvement', \n",
    "#          'ocr.region', 'groundtruth.region', 'prediction.region',\n",
    "#          'region-lev-ocr', 'region-lev-pred', 'region-lev-improvement', \n",
    "#          'article_id', 'century', 'Date', 'Type']\n",
    "\n",
    "# # Reorder the DataFrame\n",
    "# sample_df = sample_df[order]\n"
   ]
  },
  {
   "cell_type": "markdown",
   "id": "ea396a1d",
   "metadata": {},
   "source": [
    "### Write sample"
   ]
  },
  {
   "cell_type": "code",
   "execution_count": 58,
   "id": "2f22ad24",
   "metadata": {},
   "outputs": [],
   "source": [
    "# import pandas as pd\n",
    "# import seaborn as sns\n",
    "# import matplotlib.pyplot as plt\n",
    "# import warnings\n",
    "# warnings.filterwarnings('ignore')\n",
    "\n",
    "# # Define OCR noise level bins\n",
    "# # bins = [0, 0.1, 0.2, 0.3, 0.4, 0.5, 0.6, 0.7, 0.8, 0.9, 1]\n",
    "# # bins = [0, 0.7, 0.8, 0.9, 1.0]\n",
    "# bins = [0, 0.4, 0.6, 0.8, 0.99, 1.0]\n",
    "\n",
    "# # Assign OCR noise level labels\n",
    "# # labels = [\"0-10%\", \"10-20%\", \"20-30%\", \"30-40%\", \"40-50%\", \"50-60%\", \"60-70%\", \"70-80%\", \"80-90%\", \"90-100%\"]\n",
    "# # labels = [\"0-70%\", \"70-80%\", \"80-90%\", \"90-100%\"]\n",
    "# labels = [\"0-40%\", \"40-60%\", \"60-80%\", \"80-99%\", \"99-100%\"]\n",
    "\n",
    "# # Count the number of unique datasets\n",
    "# n_datasets = data.dataset_name.nunique()\n",
    "# dataset_names = ['impresso-nzz', 'overproof', 'ajmc-mixed', \n",
    "#                  'ajmc-primary-text', 'icdar-2017', 'icdar-2019', 'htrec']\n",
    "\n",
    "# for error_rate in ['lev']:\n",
    "#     # Create subplots\n",
    "#     fig, axs = plt.subplots(3, 4, figsize=(20, 15))\n",
    "\n",
    "#     # Flatten the axes for easy iteration\n",
    "#     axs = axs.flatten()\n",
    "\n",
    "#     for i, dataset in enumerate(dataset_names):\n",
    "#         dataset_data = data[data.dataset_name == dataset]\n",
    "\n",
    "#         # Compute the mean WER across line, sentence, and region levels\n",
    "#         dataset_data[f'Overall Levenshtein Improvement'] = dataset_data[[f'line-{error_rate}-improvement', \n",
    "#                                                           f'sentence-{error_rate}-improvement', \n",
    "#                                                           f'region-{error_rate}-improvement']].mean(axis=1)\n",
    "#         # Plot the distribution of WERs for each quality band\n",
    "#         for band in labels:\n",
    "#             band_df = dataset_data[dataset_data[f\"{segment_type}-ocr-noise-group\"] == band]\n",
    "\n",
    "#             _ = sns.histplot(band_df, x=f\"Overall Levenshtein Improvement\", \n",
    "#                              label=f\"Quality Band {band}\", kde=True, ax=axs[i])\n",
    "\n",
    "# #         axs[i].set_ylim([0, 300])\n",
    "#         axs[i].set_xlim([-1, 1])\n",
    "#         axs[i].set_title(f'{dataset.upper()}')\n",
    "#         axs[i].legend()\n",
    "\n",
    "#     # Remove empty subplots\n",
    "#     for i in range(len(data.dataset_name.unique()), len(axs)):\n",
    "#         fig.delaxes(axs[i])\n",
    "\n",
    "#     plt.tight_layout()\n",
    "#     plt.suptitle('Overall Levenshtein Improvement across Datasets and Quality Bands', fontsize=20, y=1.02)\n",
    "#     plt.show()"
   ]
  },
  {
   "cell_type": "code",
   "execution_count": 59,
   "id": "426c0561",
   "metadata": {},
   "outputs": [
    {
     "data": {
      "text/plain": [
       "array(['zero-shot'], dtype=object)"
      ]
     },
     "execution_count": 59,
     "metadata": {},
     "output_type": "execute_result"
    }
   ],
   "source": [
    "data.type.unique()\n"
   ]
  },
  {
   "cell_type": "code",
   "execution_count": 60,
   "id": "ad95c128",
   "metadata": {},
   "outputs": [
    {
     "data": {
      "text/plain": [
       "array(['prompt_basic_02', 'prompt_complex_01'], dtype=object)"
      ]
     },
     "execution_count": 60,
     "metadata": {},
     "output_type": "execute_result"
    }
   ],
   "source": [
    "data.prompt.unique()\n"
   ]
  },
  {
   "cell_type": "code",
   "execution_count": 61,
   "id": "474e4d72",
   "metadata": {},
   "outputs": [
    {
     "data": {
      "text/plain": [
       "array(['Positive Improvement', 'Negative Improvement', 'No Improvement'],\n",
       "      dtype=object)"
      ]
     },
     "execution_count": 61,
     "metadata": {},
     "output_type": "execute_result"
    }
   ],
   "source": [
    "data['improvement-band'].unique()\n"
   ]
  },
  {
   "cell_type": "code",
   "execution_count": 62,
   "id": "82b0b828",
   "metadata": {},
   "outputs": [
    {
     "data": {
      "text/plain": [
       "array(['o4-mini', 'gpt-4.1', 'gpt-4.1-mini', 'gpt-3.5-turbo'],\n",
       "      dtype=object)"
      ]
     },
     "execution_count": 62,
     "metadata": {},
     "output_type": "execute_result"
    }
   ],
   "source": [
    "data.model.unique()\n"
   ]
  },
  {
   "cell_type": "code",
   "execution_count": 63,
   "id": "aace7c3d",
   "metadata": {},
   "outputs": [
    {
     "data": {
      "text/plain": [
       "['GPT-4,1', 'GPT-3', 'GPT-3.5', 'GPT-4']"
      ]
     },
     "execution_count": 63,
     "metadata": {},
     "output_type": "execute_result"
    }
   ],
   "source": [
    "MODELS = ['GPT-4,1', 'GPT-3', 'GPT-3.5', 'GPT-4']\n",
    "MODELS"
   ]
  },
  {
   "cell_type": "code",
   "execution_count": 64,
   "id": "c0a91c81",
   "metadata": {},
   "outputs": [],
   "source": [
    "open_models = ['GPT-3', 'GPT-3.5', 'GPT-4','GPT-4o', 'GPT-4.1']  # Replace these with your list of 'limited' models\n",
    "limited_models = ['GPT-3', 'GPT-3.5', 'GPT-4','GPT-4o', 'GPT-4.1']  # Replace these with your list of 'open' models\n",
    "\n",
    "# Create new 'Access' column\n",
    "data['Access'] = data['model'].apply(lambda x: 'limited' if x in limited_models else ('open' if x in open_models else 'unknown'))\n"
   ]
  },
  {
   "cell_type": "code",
   "execution_count": 65,
   "id": "96dcd0ec",
   "metadata": {},
   "outputs": [
    {
     "data": {
      "text/plain": [
       "Index(['filename', 'dataset_name', 'ocr.line', 'ocr.sentence',\n",
       "       'groundtruth.line', 'groundtruth.sentence', 'prediction.line',\n",
       "       'prediction.sentence', 'model', 'prompt', 'prompt_text', 'type',\n",
       "       'language', 'file', 'name_of_file_idx', 'prediction.line.postprocessed',\n",
       "       'post-processings', 'length_prediction_tokens', 'length_ocr_tokens',\n",
       "       'length_groundtruth_tokens', 'length_groundtruth_chars',\n",
       "       'length_prediction_chars', 'length_ocr_chars',\n",
       "       'prediction.sentence.postprocessed', 'line-lev-ocr', 'line-lev-pred',\n",
       "       'line-lev-improvement', 'quality-band-line',\n",
       "       'line-lev-pred-postprocessed', 'line-lev-improvement-postprocessed',\n",
       "       'sentence-lev-ocr', 'sentence-lev-pred', 'sentence-lev-improvement',\n",
       "       'quality-band-sentence', 'sentence-lev-pred-postprocessed',\n",
       "       'sentence-lev-improvement-postprocessed',\n",
       "       'overall-levenshtein-improvement',\n",
       "       'overall-levenshtein-improvement-postprocessed', 'overall-lev-ocr',\n",
       "       'improvement-band', 'Quality Band', 'Access'],\n",
       "      dtype='object')"
      ]
     },
     "execution_count": 65,
     "metadata": {},
     "output_type": "execute_result"
    }
   ],
   "source": [
    "data.columns"
   ]
  },
  {
   "cell_type": "markdown",
   "id": "2079a585",
   "metadata": {},
   "source": [
    "# Plots"
   ]
  },
  {
   "cell_type": "code",
   "execution_count": 66,
   "id": "be71515d",
   "metadata": {},
   "outputs": [
    {
     "data": {
      "text/html": [
       "<div>\n",
       "<style scoped>\n",
       "    .dataframe tbody tr th:only-of-type {\n",
       "        vertical-align: middle;\n",
       "    }\n",
       "\n",
       "    .dataframe tbody tr th {\n",
       "        vertical-align: top;\n",
       "    }\n",
       "\n",
       "    .dataframe thead th {\n",
       "        text-align: right;\n",
       "    }\n",
       "</style>\n",
       "<table border=\"1\" class=\"dataframe\">\n",
       "  <thead>\n",
       "    <tr style=\"text-align: right;\">\n",
       "      <th></th>\n",
       "      <th>filename</th>\n",
       "      <th>dataset_name</th>\n",
       "      <th>ocr.line</th>\n",
       "      <th>ocr.sentence</th>\n",
       "      <th>groundtruth.line</th>\n",
       "      <th>groundtruth.sentence</th>\n",
       "      <th>prediction.line</th>\n",
       "      <th>prediction.sentence</th>\n",
       "      <th>model</th>\n",
       "      <th>prompt</th>\n",
       "      <th>...</th>\n",
       "      <th>sentence-lev-improvement</th>\n",
       "      <th>quality-band-sentence</th>\n",
       "      <th>sentence-lev-pred-postprocessed</th>\n",
       "      <th>sentence-lev-improvement-postprocessed</th>\n",
       "      <th>overall-levenshtein-improvement</th>\n",
       "      <th>overall-levenshtein-improvement-postprocessed</th>\n",
       "      <th>overall-lev-ocr</th>\n",
       "      <th>improvement-band</th>\n",
       "      <th>Quality Band</th>\n",
       "      <th>Access</th>\n",
       "    </tr>\n",
       "  </thead>\n",
       "  <tbody>\n",
       "    <tr>\n",
       "      <th>484</th>\n",
       "      <td>../../data/datasets/asr/original/ina/4_impress...</td>\n",
       "      <td>ina-last</td>\n",
       "      <td>enfin la météorologie ce soir nous a fait savo...</td>\n",
       "      <td>bien sûr pour tout renseignement vous pouvez n...</td>\n",
       "      <td>Enfin la météorologie ce soir nous a fait savo...</td>\n",
       "      <td>Bien sûr, pour tout renseignement, vous pouvez...</td>\n",
       "      <td>enfin la météorologie ce soir nous a fait savo...</td>\n",
       "      <td>Bien sûr, pour tout renseignement, vous pouvez...</td>\n",
       "      <td>gpt-4.1</td>\n",
       "      <td>prompt_complex_01</td>\n",
       "      <td>...</td>\n",
       "      <td>0.065421</td>\n",
       "      <td>80-99%</td>\n",
       "      <td>1.000000</td>\n",
       "      <td>0.065421</td>\n",
       "      <td>0.039000</td>\n",
       "      <td>0.039000</td>\n",
       "      <td>0.952581</td>\n",
       "      <td>Positive Improvement</td>\n",
       "      <td>80-99%</td>\n",
       "      <td>unknown</td>\n",
       "    </tr>\n",
       "    <tr>\n",
       "      <th>485</th>\n",
       "      <td>../../data/datasets/asr/original/ina/4_impress...</td>\n",
       "      <td>ina-last</td>\n",
       "      <td>et puis comme chaque week end trop de morts su...</td>\n",
       "      <td>et puis comme chaque week end trop de morts su...</td>\n",
       "      <td>Et puis comme chaque week-end trop de morts su...</td>\n",
       "      <td>Et puis comme chaque week-end trop de morts su...</td>\n",
       "      <td>et puis comme chaque week-end trop de morts su...</td>\n",
       "      <td>et puis comme chaque week-end trop de morts su...</td>\n",
       "      <td>gpt-4.1</td>\n",
       "      <td>prompt_complex_01</td>\n",
       "      <td>...</td>\n",
       "      <td>0.022989</td>\n",
       "      <td>80-99%</td>\n",
       "      <td>0.956989</td>\n",
       "      <td>0.022989</td>\n",
       "      <td>0.022989</td>\n",
       "      <td>0.022989</td>\n",
       "      <td>0.935484</td>\n",
       "      <td>Positive Improvement</td>\n",
       "      <td>80-99%</td>\n",
       "      <td>unknown</td>\n",
       "    </tr>\n",
       "    <tr>\n",
       "      <th>486</th>\n",
       "      <td>../../data/datasets/asr/original/ina/4_impress...</td>\n",
       "      <td>ina-last</td>\n",
       "      <td>le tiercé il fallait jouer le quatorze lasse l...</td>\n",
       "      <td>le tiercé il fallait jouer le quatorze lasse l...</td>\n",
       "      <td>Le tiercé: il fallait jouer le quatorze, l'as,...</td>\n",
       "      <td>Le tiercé: il fallait jouer le quatorze, l'as,...</td>\n",
       "      <td>le tiercé il fallait jouer le quatorze l'as le...</td>\n",
       "      <td>le tiercé il fallait jouer le quatorze l’as et...</td>\n",
       "      <td>gpt-4.1</td>\n",
       "      <td>prompt_complex_01</td>\n",
       "      <td>...</td>\n",
       "      <td>-0.020833</td>\n",
       "      <td>80-99%</td>\n",
       "      <td>0.854545</td>\n",
       "      <td>-0.020833</td>\n",
       "      <td>0.001778</td>\n",
       "      <td>0.001778</td>\n",
       "      <td>0.887905</td>\n",
       "      <td>Positive Improvement</td>\n",
       "      <td>80-99%</td>\n",
       "      <td>unknown</td>\n",
       "    </tr>\n",
       "    <tr>\n",
       "      <th>487</th>\n",
       "      <td>../../data/datasets/asr/original/ina/4_impress...</td>\n",
       "      <td>ina-last</td>\n",
       "      <td>le tiercé il fallait jouer le quatorze lasse l...</td>\n",
       "      <td>voici les rapports mille cent dix-huit virgule...</td>\n",
       "      <td>Le tiercé: il fallait jouer le quatorze, l'as,...</td>\n",
       "      <td>Voici les rapports: mille cent dix-huit francs...</td>\n",
       "      <td>le tiercé il fallait jouer le quatorze l'as le...</td>\n",
       "      <td>voici les rapports mille cent dix-huit virgule...</td>\n",
       "      <td>gpt-4.1</td>\n",
       "      <td>prompt_complex_01</td>\n",
       "      <td>...</td>\n",
       "      <td>0.019231</td>\n",
       "      <td>80-99%</td>\n",
       "      <td>0.929825</td>\n",
       "      <td>0.019231</td>\n",
       "      <td>0.021811</td>\n",
       "      <td>0.021811</td>\n",
       "      <td>0.907682</td>\n",
       "      <td>Positive Improvement</td>\n",
       "      <td>80-99%</td>\n",
       "      <td>unknown</td>\n",
       "    </tr>\n",
       "    <tr>\n",
       "      <th>488</th>\n",
       "      <td>../../data/datasets/asr/original/ina/4_impress...</td>\n",
       "      <td>ina-last</td>\n",
       "      <td>il est vingt deux heures et onze minutes à fra...</td>\n",
       "      <td>il est vingt deux heures et onze minutes à fra...</td>\n",
       "      <td>Il est vingt-deux heures et onze minutes à Fra...</td>\n",
       "      <td>Il est vingt-deux heures et onze minutes à Fra...</td>\n",
       "      <td>Il est vingt-deux heures et onze minutes à Fra...</td>\n",
       "      <td>Il est vingt-deux heures et onze minutes à Fra...</td>\n",
       "      <td>gpt-4.1</td>\n",
       "      <td>prompt_complex_01</td>\n",
       "      <td>...</td>\n",
       "      <td>0.079365</td>\n",
       "      <td>80-99%</td>\n",
       "      <td>0.978417</td>\n",
       "      <td>0.079365</td>\n",
       "      <td>0.079365</td>\n",
       "      <td>0.079365</td>\n",
       "      <td>0.906475</td>\n",
       "      <td>Positive Improvement</td>\n",
       "      <td>80-99%</td>\n",
       "      <td>unknown</td>\n",
       "    </tr>\n",
       "  </tbody>\n",
       "</table>\n",
       "<p>5 rows × 42 columns</p>\n",
       "</div>"
      ],
      "text/plain": [
       "                                              filename dataset_name  \\\n",
       "484  ../../data/datasets/asr/original/ina/4_impress...     ina-last   \n",
       "485  ../../data/datasets/asr/original/ina/4_impress...     ina-last   \n",
       "486  ../../data/datasets/asr/original/ina/4_impress...     ina-last   \n",
       "487  ../../data/datasets/asr/original/ina/4_impress...     ina-last   \n",
       "488  ../../data/datasets/asr/original/ina/4_impress...     ina-last   \n",
       "\n",
       "                                              ocr.line  \\\n",
       "484  enfin la météorologie ce soir nous a fait savo...   \n",
       "485  et puis comme chaque week end trop de morts su...   \n",
       "486  le tiercé il fallait jouer le quatorze lasse l...   \n",
       "487  le tiercé il fallait jouer le quatorze lasse l...   \n",
       "488  il est vingt deux heures et onze minutes à fra...   \n",
       "\n",
       "                                          ocr.sentence  \\\n",
       "484  bien sûr pour tout renseignement vous pouvez n...   \n",
       "485  et puis comme chaque week end trop de morts su...   \n",
       "486  le tiercé il fallait jouer le quatorze lasse l...   \n",
       "487  voici les rapports mille cent dix-huit virgule...   \n",
       "488  il est vingt deux heures et onze minutes à fra...   \n",
       "\n",
       "                                      groundtruth.line  \\\n",
       "484  Enfin la météorologie ce soir nous a fait savo...   \n",
       "485  Et puis comme chaque week-end trop de morts su...   \n",
       "486  Le tiercé: il fallait jouer le quatorze, l'as,...   \n",
       "487  Le tiercé: il fallait jouer le quatorze, l'as,...   \n",
       "488  Il est vingt-deux heures et onze minutes à Fra...   \n",
       "\n",
       "                                  groundtruth.sentence  \\\n",
       "484  Bien sûr, pour tout renseignement, vous pouvez...   \n",
       "485  Et puis comme chaque week-end trop de morts su...   \n",
       "486  Le tiercé: il fallait jouer le quatorze, l'as,...   \n",
       "487  Voici les rapports: mille cent dix-huit francs...   \n",
       "488  Il est vingt-deux heures et onze minutes à Fra...   \n",
       "\n",
       "                                       prediction.line  \\\n",
       "484  enfin la météorologie ce soir nous a fait savo...   \n",
       "485  et puis comme chaque week-end trop de morts su...   \n",
       "486  le tiercé il fallait jouer le quatorze l'as le...   \n",
       "487  le tiercé il fallait jouer le quatorze l'as le...   \n",
       "488  Il est vingt-deux heures et onze minutes à Fra...   \n",
       "\n",
       "                                   prediction.sentence    model  \\\n",
       "484  Bien sûr, pour tout renseignement, vous pouvez...  gpt-4.1   \n",
       "485  et puis comme chaque week-end trop de morts su...  gpt-4.1   \n",
       "486  le tiercé il fallait jouer le quatorze l’as et...  gpt-4.1   \n",
       "487  voici les rapports mille cent dix-huit virgule...  gpt-4.1   \n",
       "488  Il est vingt-deux heures et onze minutes à Fra...  gpt-4.1   \n",
       "\n",
       "                prompt  ... sentence-lev-improvement quality-band-sentence  \\\n",
       "484  prompt_complex_01  ...                 0.065421                80-99%   \n",
       "485  prompt_complex_01  ...                 0.022989                80-99%   \n",
       "486  prompt_complex_01  ...                -0.020833                80-99%   \n",
       "487  prompt_complex_01  ...                 0.019231                80-99%   \n",
       "488  prompt_complex_01  ...                 0.079365                80-99%   \n",
       "\n",
       "    sentence-lev-pred-postprocessed sentence-lev-improvement-postprocessed  \\\n",
       "484                        1.000000                               0.065421   \n",
       "485                        0.956989                               0.022989   \n",
       "486                        0.854545                              -0.020833   \n",
       "487                        0.929825                               0.019231   \n",
       "488                        0.978417                               0.079365   \n",
       "\n",
       "    overall-levenshtein-improvement  \\\n",
       "484                        0.039000   \n",
       "485                        0.022989   \n",
       "486                        0.001778   \n",
       "487                        0.021811   \n",
       "488                        0.079365   \n",
       "\n",
       "    overall-levenshtein-improvement-postprocessed overall-lev-ocr  \\\n",
       "484                                      0.039000        0.952581   \n",
       "485                                      0.022989        0.935484   \n",
       "486                                      0.001778        0.887905   \n",
       "487                                      0.021811        0.907682   \n",
       "488                                      0.079365        0.906475   \n",
       "\n",
       "         improvement-band  Quality Band   Access  \n",
       "484  Positive Improvement        80-99%  unknown  \n",
       "485  Positive Improvement        80-99%  unknown  \n",
       "486  Positive Improvement        80-99%  unknown  \n",
       "487  Positive Improvement        80-99%  unknown  \n",
       "488  Positive Improvement        80-99%  unknown  \n",
       "\n",
       "[5 rows x 42 columns]"
      ]
     },
     "execution_count": 66,
     "metadata": {},
     "output_type": "execute_result"
    }
   ],
   "source": [
    "data.tail()"
   ]
  },
  {
   "cell_type": "code",
   "execution_count": 67,
   "id": "2a8d6b07",
   "metadata": {},
   "outputs": [
    {
     "data": {
      "text/html": [
       "<div>\n",
       "<style scoped>\n",
       "    .dataframe tbody tr th:only-of-type {\n",
       "        vertical-align: middle;\n",
       "    }\n",
       "\n",
       "    .dataframe tbody tr th {\n",
       "        vertical-align: top;\n",
       "    }\n",
       "\n",
       "    .dataframe thead th {\n",
       "        text-align: right;\n",
       "    }\n",
       "</style>\n",
       "<table border=\"1\" class=\"dataframe\">\n",
       "  <thead>\n",
       "    <tr style=\"text-align: right;\">\n",
       "      <th></th>\n",
       "      <th>filename</th>\n",
       "      <th>dataset_name</th>\n",
       "      <th>ocr.line</th>\n",
       "      <th>ocr.sentence</th>\n",
       "      <th>groundtruth.line</th>\n",
       "      <th>groundtruth.sentence</th>\n",
       "      <th>prediction.line</th>\n",
       "      <th>prediction.sentence</th>\n",
       "      <th>model</th>\n",
       "      <th>prompt</th>\n",
       "      <th>...</th>\n",
       "      <th>sentence-lev-improvement</th>\n",
       "      <th>quality-band-sentence</th>\n",
       "      <th>sentence-lev-pred-postprocessed</th>\n",
       "      <th>sentence-lev-improvement-postprocessed</th>\n",
       "      <th>overall-levenshtein-improvement</th>\n",
       "      <th>overall-levenshtein-improvement-postprocessed</th>\n",
       "      <th>overall-lev-ocr</th>\n",
       "      <th>improvement-band</th>\n",
       "      <th>Quality Band</th>\n",
       "      <th>Access</th>\n",
       "    </tr>\n",
       "  </thead>\n",
       "  <tbody>\n",
       "    <tr>\n",
       "      <th>0</th>\n",
       "      <td>../../data/datasets/asr/original/ina/3_impress...</td>\n",
       "      <td>ina-last</td>\n",
       "      <td>décembre mille neuf cent quarante une réalisat...</td>\n",
       "      <td>décembre mille neuf cent quarante une réalisat...</td>\n",
       "      <td>Quinze décembre mille neuf cent quarante, une ...</td>\n",
       "      <td>Quinze décembre mille neuf cent quarante, une ...</td>\n",
       "      <td>décembre mille neuf cent quarante et un réalis...</td>\n",
       "      <td>décembre mille neuf cent quarante et un réalis...</td>\n",
       "      <td>o4-mini</td>\n",
       "      <td>prompt_basic_02</td>\n",
       "      <td>...</td>\n",
       "      <td>0.011111</td>\n",
       "      <td>80-99%</td>\n",
       "      <td>0.850467</td>\n",
       "      <td>0.011111</td>\n",
       "      <td>0.011111</td>\n",
       "      <td>0.011111</td>\n",
       "      <td>0.841121</td>\n",
       "      <td>Positive Improvement</td>\n",
       "      <td>80-99%</td>\n",
       "      <td>unknown</td>\n",
       "    </tr>\n",
       "    <tr>\n",
       "      <th>1</th>\n",
       "      <td>../../data/datasets/asr/original/ina/3_impress...</td>\n",
       "      <td>ina-last</td>\n",
       "      <td>déjà trois années là cela se passait à la gare...</td>\n",
       "      <td>cela se passait à la gare de l'est vous s'étai...</td>\n",
       "      <td>Déjà trois années de cela. Cela se passait à l...</td>\n",
       "      <td>Cela se passait à la Gare de l'Est où s'étaien...</td>\n",
       "      <td>Déjà trois années là cela se passait à la gare...</td>\n",
       "      <td>cela se passait à la gare de l’Est on s’était ...</td>\n",
       "      <td>o4-mini</td>\n",
       "      <td>prompt_basic_02</td>\n",
       "      <td>...</td>\n",
       "      <td>-0.001027</td>\n",
       "      <td>80-99%</td>\n",
       "      <td>0.905473</td>\n",
       "      <td>-0.001027</td>\n",
       "      <td>-0.007976</td>\n",
       "      <td>-0.007976</td>\n",
       "      <td>0.893991</td>\n",
       "      <td>Negative Improvement</td>\n",
       "      <td>80-99%</td>\n",
       "      <td>unknown</td>\n",
       "    </tr>\n",
       "    <tr>\n",
       "      <th>2</th>\n",
       "      <td>../../data/datasets/asr/original/ina/3_impress...</td>\n",
       "      <td>ina-last</td>\n",
       "      <td>au delà de pompiers vingt huit de la même car ...</td>\n",
       "      <td>delà de pompiers vingt huit de la même car</td>\n",
       "      <td>Cela se passait au quai vingt-huit de la même ...</td>\n",
       "      <td>Cela se passait au quai vingt-huit de la même ...</td>\n",
       "      <td>Au-delà de pompiers vingt-huit de la même gare...</td>\n",
       "      <td>déjà de pompiers vingt-huit de la même car</td>\n",
       "      <td>o4-mini</td>\n",
       "      <td>prompt_basic_02</td>\n",
       "      <td>...</td>\n",
       "      <td>-0.032258</td>\n",
       "      <td>60-80%</td>\n",
       "      <td>0.588235</td>\n",
       "      <td>-0.032258</td>\n",
       "      <td>-0.001978</td>\n",
       "      <td>-0.001978</td>\n",
       "      <td>0.702418</td>\n",
       "      <td>Negative Improvement</td>\n",
       "      <td>60-80%</td>\n",
       "      <td>unknown</td>\n",
       "    </tr>\n",
       "    <tr>\n",
       "      <th>3</th>\n",
       "      <td>../../data/datasets/asr/original/ina/3_impress...</td>\n",
       "      <td>ina-last</td>\n",
       "      <td>se trouvait un cercueil de bronze à huit golde...</td>\n",
       "      <td>ce cercueil était celui d'un roi du roi de rom...</td>\n",
       "      <td>se trouvait un cercueil de bronze à huit gueul...</td>\n",
       "      <td>Ce cercueil était celui d'un roi, du roi de Ro...</td>\n",
       "      <td>se trouvait un cercueil de bronze à huit lions...</td>\n",
       "      <td>Ce cercueil était celui du roi de Rome, fils d...</td>\n",
       "      <td>o4-mini</td>\n",
       "      <td>prompt_basic_02</td>\n",
       "      <td>...</td>\n",
       "      <td>-0.109375</td>\n",
       "      <td>80-99%</td>\n",
       "      <td>0.814286</td>\n",
       "      <td>-0.109375</td>\n",
       "      <td>-0.080631</td>\n",
       "      <td>-0.080631</td>\n",
       "      <td>0.918012</td>\n",
       "      <td>Negative Improvement</td>\n",
       "      <td>80-99%</td>\n",
       "      <td>unknown</td>\n",
       "    </tr>\n",
       "    <tr>\n",
       "      <th>4</th>\n",
       "      <td>../../data/datasets/asr/original/ina/3_impress...</td>\n",
       "      <td>ina-last</td>\n",
       "      <td>très froid même un grand silence règne sur les...</td>\n",
       "      <td>un grand silence règne sur les hommes et sur l...</td>\n",
       "      <td>très froid même. Un grand silence régnait sur ...</td>\n",
       "      <td>Un grand silence régnait sur les hommes et sur...</td>\n",
       "      <td>très froid, même un grand silence règne sur le...</td>\n",
       "      <td>Un grand silence règne sur les hommes et sur l...</td>\n",
       "      <td>o4-mini</td>\n",
       "      <td>prompt_basic_02</td>\n",
       "      <td>...</td>\n",
       "      <td>0.023622</td>\n",
       "      <td>80-99%</td>\n",
       "      <td>0.942029</td>\n",
       "      <td>0.023622</td>\n",
       "      <td>0.011811</td>\n",
       "      <td>0.011811</td>\n",
       "      <td>0.921435</td>\n",
       "      <td>Positive Improvement</td>\n",
       "      <td>80-99%</td>\n",
       "      <td>unknown</td>\n",
       "    </tr>\n",
       "    <tr>\n",
       "      <th>...</th>\n",
       "      <td>...</td>\n",
       "      <td>...</td>\n",
       "      <td>...</td>\n",
       "      <td>...</td>\n",
       "      <td>...</td>\n",
       "      <td>...</td>\n",
       "      <td>...</td>\n",
       "      <td>...</td>\n",
       "      <td>...</td>\n",
       "      <td>...</td>\n",
       "      <td>...</td>\n",
       "      <td>...</td>\n",
       "      <td>...</td>\n",
       "      <td>...</td>\n",
       "      <td>...</td>\n",
       "      <td>...</td>\n",
       "      <td>...</td>\n",
       "      <td>...</td>\n",
       "      <td>...</td>\n",
       "      <td>...</td>\n",
       "      <td>...</td>\n",
       "    </tr>\n",
       "    <tr>\n",
       "      <th>484</th>\n",
       "      <td>../../data/datasets/asr/original/ina/4_impress...</td>\n",
       "      <td>ina-last</td>\n",
       "      <td>enfin la météorologie ce soir nous a fait savo...</td>\n",
       "      <td>bien sûr pour tout renseignement vous pouvez n...</td>\n",
       "      <td>Enfin la météorologie ce soir nous a fait savo...</td>\n",
       "      <td>Bien sûr, pour tout renseignement, vous pouvez...</td>\n",
       "      <td>enfin la météorologie ce soir nous a fait savo...</td>\n",
       "      <td>Bien sûr, pour tout renseignement, vous pouvez...</td>\n",
       "      <td>gpt-4.1</td>\n",
       "      <td>prompt_complex_01</td>\n",
       "      <td>...</td>\n",
       "      <td>0.065421</td>\n",
       "      <td>80-99%</td>\n",
       "      <td>1.000000</td>\n",
       "      <td>0.065421</td>\n",
       "      <td>0.039000</td>\n",
       "      <td>0.039000</td>\n",
       "      <td>0.952581</td>\n",
       "      <td>Positive Improvement</td>\n",
       "      <td>80-99%</td>\n",
       "      <td>unknown</td>\n",
       "    </tr>\n",
       "    <tr>\n",
       "      <th>485</th>\n",
       "      <td>../../data/datasets/asr/original/ina/4_impress...</td>\n",
       "      <td>ina-last</td>\n",
       "      <td>et puis comme chaque week end trop de morts su...</td>\n",
       "      <td>et puis comme chaque week end trop de morts su...</td>\n",
       "      <td>Et puis comme chaque week-end trop de morts su...</td>\n",
       "      <td>Et puis comme chaque week-end trop de morts su...</td>\n",
       "      <td>et puis comme chaque week-end trop de morts su...</td>\n",
       "      <td>et puis comme chaque week-end trop de morts su...</td>\n",
       "      <td>gpt-4.1</td>\n",
       "      <td>prompt_complex_01</td>\n",
       "      <td>...</td>\n",
       "      <td>0.022989</td>\n",
       "      <td>80-99%</td>\n",
       "      <td>0.956989</td>\n",
       "      <td>0.022989</td>\n",
       "      <td>0.022989</td>\n",
       "      <td>0.022989</td>\n",
       "      <td>0.935484</td>\n",
       "      <td>Positive Improvement</td>\n",
       "      <td>80-99%</td>\n",
       "      <td>unknown</td>\n",
       "    </tr>\n",
       "    <tr>\n",
       "      <th>486</th>\n",
       "      <td>../../data/datasets/asr/original/ina/4_impress...</td>\n",
       "      <td>ina-last</td>\n",
       "      <td>le tiercé il fallait jouer le quatorze lasse l...</td>\n",
       "      <td>le tiercé il fallait jouer le quatorze lasse l...</td>\n",
       "      <td>Le tiercé: il fallait jouer le quatorze, l'as,...</td>\n",
       "      <td>Le tiercé: il fallait jouer le quatorze, l'as,...</td>\n",
       "      <td>le tiercé il fallait jouer le quatorze l'as le...</td>\n",
       "      <td>le tiercé il fallait jouer le quatorze l’as et...</td>\n",
       "      <td>gpt-4.1</td>\n",
       "      <td>prompt_complex_01</td>\n",
       "      <td>...</td>\n",
       "      <td>-0.020833</td>\n",
       "      <td>80-99%</td>\n",
       "      <td>0.854545</td>\n",
       "      <td>-0.020833</td>\n",
       "      <td>0.001778</td>\n",
       "      <td>0.001778</td>\n",
       "      <td>0.887905</td>\n",
       "      <td>Positive Improvement</td>\n",
       "      <td>80-99%</td>\n",
       "      <td>unknown</td>\n",
       "    </tr>\n",
       "    <tr>\n",
       "      <th>487</th>\n",
       "      <td>../../data/datasets/asr/original/ina/4_impress...</td>\n",
       "      <td>ina-last</td>\n",
       "      <td>le tiercé il fallait jouer le quatorze lasse l...</td>\n",
       "      <td>voici les rapports mille cent dix-huit virgule...</td>\n",
       "      <td>Le tiercé: il fallait jouer le quatorze, l'as,...</td>\n",
       "      <td>Voici les rapports: mille cent dix-huit francs...</td>\n",
       "      <td>le tiercé il fallait jouer le quatorze l'as le...</td>\n",
       "      <td>voici les rapports mille cent dix-huit virgule...</td>\n",
       "      <td>gpt-4.1</td>\n",
       "      <td>prompt_complex_01</td>\n",
       "      <td>...</td>\n",
       "      <td>0.019231</td>\n",
       "      <td>80-99%</td>\n",
       "      <td>0.929825</td>\n",
       "      <td>0.019231</td>\n",
       "      <td>0.021811</td>\n",
       "      <td>0.021811</td>\n",
       "      <td>0.907682</td>\n",
       "      <td>Positive Improvement</td>\n",
       "      <td>80-99%</td>\n",
       "      <td>unknown</td>\n",
       "    </tr>\n",
       "    <tr>\n",
       "      <th>488</th>\n",
       "      <td>../../data/datasets/asr/original/ina/4_impress...</td>\n",
       "      <td>ina-last</td>\n",
       "      <td>il est vingt deux heures et onze minutes à fra...</td>\n",
       "      <td>il est vingt deux heures et onze minutes à fra...</td>\n",
       "      <td>Il est vingt-deux heures et onze minutes à Fra...</td>\n",
       "      <td>Il est vingt-deux heures et onze minutes à Fra...</td>\n",
       "      <td>Il est vingt-deux heures et onze minutes à Fra...</td>\n",
       "      <td>Il est vingt-deux heures et onze minutes à Fra...</td>\n",
       "      <td>gpt-4.1</td>\n",
       "      <td>prompt_complex_01</td>\n",
       "      <td>...</td>\n",
       "      <td>0.079365</td>\n",
       "      <td>80-99%</td>\n",
       "      <td>0.978417</td>\n",
       "      <td>0.079365</td>\n",
       "      <td>0.079365</td>\n",
       "      <td>0.079365</td>\n",
       "      <td>0.906475</td>\n",
       "      <td>Positive Improvement</td>\n",
       "      <td>80-99%</td>\n",
       "      <td>unknown</td>\n",
       "    </tr>\n",
       "  </tbody>\n",
       "</table>\n",
       "<p>2451 rows × 42 columns</p>\n",
       "</div>"
      ],
      "text/plain": [
       "                                              filename dataset_name  \\\n",
       "0    ../../data/datasets/asr/original/ina/3_impress...     ina-last   \n",
       "1    ../../data/datasets/asr/original/ina/3_impress...     ina-last   \n",
       "2    ../../data/datasets/asr/original/ina/3_impress...     ina-last   \n",
       "3    ../../data/datasets/asr/original/ina/3_impress...     ina-last   \n",
       "4    ../../data/datasets/asr/original/ina/3_impress...     ina-last   \n",
       "..                                                 ...          ...   \n",
       "484  ../../data/datasets/asr/original/ina/4_impress...     ina-last   \n",
       "485  ../../data/datasets/asr/original/ina/4_impress...     ina-last   \n",
       "486  ../../data/datasets/asr/original/ina/4_impress...     ina-last   \n",
       "487  ../../data/datasets/asr/original/ina/4_impress...     ina-last   \n",
       "488  ../../data/datasets/asr/original/ina/4_impress...     ina-last   \n",
       "\n",
       "                                              ocr.line  \\\n",
       "0    décembre mille neuf cent quarante une réalisat...   \n",
       "1    déjà trois années là cela se passait à la gare...   \n",
       "2    au delà de pompiers vingt huit de la même car ...   \n",
       "3    se trouvait un cercueil de bronze à huit golde...   \n",
       "4    très froid même un grand silence règne sur les...   \n",
       "..                                                 ...   \n",
       "484  enfin la météorologie ce soir nous a fait savo...   \n",
       "485  et puis comme chaque week end trop de morts su...   \n",
       "486  le tiercé il fallait jouer le quatorze lasse l...   \n",
       "487  le tiercé il fallait jouer le quatorze lasse l...   \n",
       "488  il est vingt deux heures et onze minutes à fra...   \n",
       "\n",
       "                                          ocr.sentence  \\\n",
       "0    décembre mille neuf cent quarante une réalisat...   \n",
       "1    cela se passait à la gare de l'est vous s'étai...   \n",
       "2           delà de pompiers vingt huit de la même car   \n",
       "3    ce cercueil était celui d'un roi du roi de rom...   \n",
       "4    un grand silence règne sur les hommes et sur l...   \n",
       "..                                                 ...   \n",
       "484  bien sûr pour tout renseignement vous pouvez n...   \n",
       "485  et puis comme chaque week end trop de morts su...   \n",
       "486  le tiercé il fallait jouer le quatorze lasse l...   \n",
       "487  voici les rapports mille cent dix-huit virgule...   \n",
       "488  il est vingt deux heures et onze minutes à fra...   \n",
       "\n",
       "                                      groundtruth.line  \\\n",
       "0    Quinze décembre mille neuf cent quarante, une ...   \n",
       "1    Déjà trois années de cela. Cela se passait à l...   \n",
       "2    Cela se passait au quai vingt-huit de la même ...   \n",
       "3    se trouvait un cercueil de bronze à huit gueul...   \n",
       "4    très froid même. Un grand silence régnait sur ...   \n",
       "..                                                 ...   \n",
       "484  Enfin la météorologie ce soir nous a fait savo...   \n",
       "485  Et puis comme chaque week-end trop de morts su...   \n",
       "486  Le tiercé: il fallait jouer le quatorze, l'as,...   \n",
       "487  Le tiercé: il fallait jouer le quatorze, l'as,...   \n",
       "488  Il est vingt-deux heures et onze minutes à Fra...   \n",
       "\n",
       "                                  groundtruth.sentence  \\\n",
       "0    Quinze décembre mille neuf cent quarante, une ...   \n",
       "1    Cela se passait à la Gare de l'Est où s'étaien...   \n",
       "2    Cela se passait au quai vingt-huit de la même ...   \n",
       "3    Ce cercueil était celui d'un roi, du roi de Ro...   \n",
       "4    Un grand silence régnait sur les hommes et sur...   \n",
       "..                                                 ...   \n",
       "484  Bien sûr, pour tout renseignement, vous pouvez...   \n",
       "485  Et puis comme chaque week-end trop de morts su...   \n",
       "486  Le tiercé: il fallait jouer le quatorze, l'as,...   \n",
       "487  Voici les rapports: mille cent dix-huit francs...   \n",
       "488  Il est vingt-deux heures et onze minutes à Fra...   \n",
       "\n",
       "                                       prediction.line  \\\n",
       "0    décembre mille neuf cent quarante et un réalis...   \n",
       "1    Déjà trois années là cela se passait à la gare...   \n",
       "2    Au-delà de pompiers vingt-huit de la même gare...   \n",
       "3    se trouvait un cercueil de bronze à huit lions...   \n",
       "4    très froid, même un grand silence règne sur le...   \n",
       "..                                                 ...   \n",
       "484  enfin la météorologie ce soir nous a fait savo...   \n",
       "485  et puis comme chaque week-end trop de morts su...   \n",
       "486  le tiercé il fallait jouer le quatorze l'as le...   \n",
       "487  le tiercé il fallait jouer le quatorze l'as le...   \n",
       "488  Il est vingt-deux heures et onze minutes à Fra...   \n",
       "\n",
       "                                   prediction.sentence    model  \\\n",
       "0    décembre mille neuf cent quarante et un réalis...  o4-mini   \n",
       "1    cela se passait à la gare de l’Est on s’était ...  o4-mini   \n",
       "2           déjà de pompiers vingt-huit de la même car  o4-mini   \n",
       "3    Ce cercueil était celui du roi de Rome, fils d...  o4-mini   \n",
       "4    Un grand silence règne sur les hommes et sur l...  o4-mini   \n",
       "..                                                 ...      ...   \n",
       "484  Bien sûr, pour tout renseignement, vous pouvez...  gpt-4.1   \n",
       "485  et puis comme chaque week-end trop de morts su...  gpt-4.1   \n",
       "486  le tiercé il fallait jouer le quatorze l’as et...  gpt-4.1   \n",
       "487  voici les rapports mille cent dix-huit virgule...  gpt-4.1   \n",
       "488  Il est vingt-deux heures et onze minutes à Fra...  gpt-4.1   \n",
       "\n",
       "                prompt  ... sentence-lev-improvement quality-band-sentence  \\\n",
       "0      prompt_basic_02  ...                 0.011111                80-99%   \n",
       "1      prompt_basic_02  ...                -0.001027                80-99%   \n",
       "2      prompt_basic_02  ...                -0.032258                60-80%   \n",
       "3      prompt_basic_02  ...                -0.109375                80-99%   \n",
       "4      prompt_basic_02  ...                 0.023622                80-99%   \n",
       "..                 ...  ...                      ...                   ...   \n",
       "484  prompt_complex_01  ...                 0.065421                80-99%   \n",
       "485  prompt_complex_01  ...                 0.022989                80-99%   \n",
       "486  prompt_complex_01  ...                -0.020833                80-99%   \n",
       "487  prompt_complex_01  ...                 0.019231                80-99%   \n",
       "488  prompt_complex_01  ...                 0.079365                80-99%   \n",
       "\n",
       "    sentence-lev-pred-postprocessed sentence-lev-improvement-postprocessed  \\\n",
       "0                          0.850467                               0.011111   \n",
       "1                          0.905473                              -0.001027   \n",
       "2                          0.588235                              -0.032258   \n",
       "3                          0.814286                              -0.109375   \n",
       "4                          0.942029                               0.023622   \n",
       "..                              ...                                    ...   \n",
       "484                        1.000000                               0.065421   \n",
       "485                        0.956989                               0.022989   \n",
       "486                        0.854545                              -0.020833   \n",
       "487                        0.929825                               0.019231   \n",
       "488                        0.978417                               0.079365   \n",
       "\n",
       "    overall-levenshtein-improvement  \\\n",
       "0                          0.011111   \n",
       "1                         -0.007976   \n",
       "2                         -0.001978   \n",
       "3                         -0.080631   \n",
       "4                          0.011811   \n",
       "..                              ...   \n",
       "484                        0.039000   \n",
       "485                        0.022989   \n",
       "486                        0.001778   \n",
       "487                        0.021811   \n",
       "488                        0.079365   \n",
       "\n",
       "    overall-levenshtein-improvement-postprocessed overall-lev-ocr  \\\n",
       "0                                        0.011111        0.841121   \n",
       "1                                       -0.007976        0.893991   \n",
       "2                                       -0.001978        0.702418   \n",
       "3                                       -0.080631        0.918012   \n",
       "4                                        0.011811        0.921435   \n",
       "..                                            ...             ...   \n",
       "484                                      0.039000        0.952581   \n",
       "485                                      0.022989        0.935484   \n",
       "486                                      0.001778        0.887905   \n",
       "487                                      0.021811        0.907682   \n",
       "488                                      0.079365        0.906475   \n",
       "\n",
       "         improvement-band  Quality Band   Access  \n",
       "0    Positive Improvement        80-99%  unknown  \n",
       "1    Negative Improvement        80-99%  unknown  \n",
       "2    Negative Improvement        60-80%  unknown  \n",
       "3    Negative Improvement        80-99%  unknown  \n",
       "4    Positive Improvement        80-99%  unknown  \n",
       "..                    ...           ...      ...  \n",
       "484  Positive Improvement        80-99%  unknown  \n",
       "485  Positive Improvement        80-99%  unknown  \n",
       "486  Positive Improvement        80-99%  unknown  \n",
       "487  Positive Improvement        80-99%  unknown  \n",
       "488  Positive Improvement        80-99%  unknown  \n",
       "\n",
       "[2451 rows x 42 columns]"
      ]
     },
     "execution_count": 67,
     "metadata": {},
     "output_type": "execute_result"
    }
   ],
   "source": [
    "data"
   ]
  },
  {
   "cell_type": "code",
   "execution_count": 68,
   "id": "da0dd012-c563-49eb-8d47-778b95833239",
   "metadata": {},
   "outputs": [
    {
     "name": "stdout",
     "output_type": "stream",
     "text": [
      "Overall DF shape: (2451, 42)\n",
      "All prompts: ['prompt_basic_02' 'prompt_complex_01']\n",
      "Type counts:\n",
      " type\n",
      "zero-shot    2451\n",
      "Name: count, dtype: int64\n",
      "Dataset counts:\n",
      " dataset_name\n",
      "ina-last    2451\n",
      "Name: count, dtype: int64\n"
     ]
    }
   ],
   "source": [
    "print(\"Overall DF shape:\", data.shape)\n",
    "print(\"All prompts:\", data['prompt'].unique())\n",
    "print(\"Type counts:\\n\", data['type'].value_counts())\n",
    "print(\"Dataset counts:\\n\", data['dataset_name'].value_counts())\n"
   ]
  },
  {
   "cell_type": "code",
   "execution_count": 69,
   "id": "9f4f5f07",
   "metadata": {},
   "outputs": [
    {
     "ename": "AttributeError",
     "evalue": "'NoneType' object has no attribute 'remove'",
     "output_type": "error",
     "traceback": [
      "\u001b[31m---------------------------------------------------------------------------\u001b[39m",
      "\u001b[31mAttributeError\u001b[39m                            Traceback (most recent call last)",
      "\u001b[36mCell\u001b[39m\u001b[36m \u001b[39m\u001b[32mIn[69]\u001b[39m\u001b[32m, line 56\u001b[39m\n\u001b[32m     54\u001b[39m     \u001b[38;5;66;03m# if you don’t want a legend on every panel, remove after the first\u001b[39;00m\n\u001b[32m     55\u001b[39m     \u001b[38;5;28;01mif\u001b[39;00m i > \u001b[32m0\u001b[39m:\n\u001b[32m---> \u001b[39m\u001b[32m56\u001b[39m         \u001b[43max\u001b[49m\u001b[43m.\u001b[49m\u001b[43mget_legend\u001b[49m\u001b[43m(\u001b[49m\u001b[43m)\u001b[49m\u001b[43m.\u001b[49m\u001b[43mremove\u001b[49m()\n\u001b[32m     58\u001b[39m \u001b[38;5;66;03m# drop any extra panels\u001b[39;00m\n\u001b[32m     59\u001b[39m \u001b[38;5;28;01mfor\u001b[39;00m j \u001b[38;5;129;01min\u001b[39;00m \u001b[38;5;28mrange\u001b[39m(n, \u001b[38;5;28mlen\u001b[39m(axs)):\n",
      "\u001b[31mAttributeError\u001b[39m: 'NoneType' object has no attribute 'remove'"
     ]
    },
    {
     "data": {
      "image/png": "[encoded data removed]",
      "text/plain": [
       "<Figure size 3000x1500 with 2 Axes>"
      ]
     },
     "metadata": {},
     "output_type": "display_data"
    }
   ],
   "source": [
    "import math\n",
    "import seaborn as sns\n",
    "import matplotlib.pyplot as plt\n",
    "\n",
    "sns.set_palette('colorblind')\n",
    "sns.set_context(\"notebook\", font_scale=1.8)\n",
    "sns.set_style(\"whitegrid\")\n",
    "\n",
    "type_of_experiment = 'zero-shot'\n",
    "error_rate = 'lev'\n",
    "\n",
    "# only one dataset here\n",
    "dataset = 'ina'\n",
    "\n",
    "# figure out how many prompts and grid size\n",
    "prompts = ['prompt_basic_01', 'prompt_basic_02']\n",
    "n = len(prompts)\n",
    "cols = 2\n",
    "rows = math.ceil(n / cols)\n",
    "\n",
    "fig, axs = plt.subplots(rows, cols, figsize=(30, 15))\n",
    "axs = axs.flatten()\n",
    "\n",
    "for i, prompt in enumerate(prompts):\n",
    "    ax = axs[i]\n",
    "    # filter for this dataset, experiment & prompt\n",
    "    df = data[\n",
    "        (data.dataset_name == dataset)\n",
    "        & (data.type == type_of_experiment)\n",
    "        & (data.prompt == prompt)\n",
    "    ].copy()\n",
    "\n",
    "    # compute the overall improvement if you need to\n",
    "    df['overall-levenshtein-improvement'] = df[f'sentence-{error_rate}-improvement']\n",
    "\n",
    "    # draw the stripplot\n",
    "    sns.stripplot(\n",
    "        x='model',\n",
    "        y='overall-levenshtein-improvement',\n",
    "        hue='sentence-lev-ocr',\n",
    "        data=df,\n",
    "        jitter=True,\n",
    "        alpha=0.2,\n",
    "        size=5,\n",
    "        ax=ax\n",
    "    )\n",
    "\n",
    "    ax.set_title(f'{dataset.upper()} — {prompt}', fontsize=18)\n",
    "    ax.set_ylim(-1, 1.2)\n",
    "    ax.set_xlabel('')\n",
    "    ax.set_ylabel('')\n",
    "    ax.tick_params(axis='x', rotation=15)\n",
    "\n",
    "    # if you don’t want a legend on every panel, remove after the first\n",
    "    if i > 0:\n",
    "        ax.get_legend().remove()\n",
    "\n",
    "# drop any extra panels\n",
    "for j in range(n, len(axs)):\n",
    "    fig.delaxes(axs[j])\n",
    "\n",
    "plt.tight_layout()\n",
    "plt.suptitle(\n",
    "    'Overall Levenshtein Improvement by Prompt (zero‑shot)', \n",
    "    fontsize=24, \n",
    "    y=1.02\n",
    ")\n",
    "plt.show()\n"
   ]
  },
  {
   "cell_type": "code",
   "execution_count": null,
   "id": "2e55686a",
   "metadata": {},
   "outputs": [],
   "source": [
    "data.columns"
   ]
  },
  {
   "cell_type": "code",
   "execution_count": null,
   "id": "0b0b7d90",
   "metadata": {},
   "outputs": [],
   "source": [
    "dataset_data['sentence-lev-ocr']"
   ]
  },
  {
   "cell_type": "code",
   "execution_count": 70,
   "id": "8cbc9855",
   "metadata": {},
   "outputs": [
    {
     "name": "stdout",
     "output_type": "stream",
     "text": [
      "1\n"
     ]
    },
    {
     "data": {
      "image/png": "[encoded data removed]",
      "text/plain": [
       "<Figure size 3000x1500 with 1 Axes>"
      ]
     },
     "metadata": {},
     "output_type": "display_data"
    }
   ],
   "source": [
    "import pandas as pd\n",
    "import seaborn as sns\n",
    "import matplotlib.pyplot as plt\n",
    "import warnings\n",
    "import numpy as np\n",
    "warnings.filterwarnings('ignore')\n",
    "\n",
    "sns.set_palette('colorblind')\n",
    "sns.set_context(\"notebook\", font_scale=1.8)\n",
    "sns.set_style(\"whitegrid\")\n",
    "sns.set_palette(sns.color_palette(\"colorblind\", desat=0.6))\n",
    "\n",
    "# Define OCR noise level bins\n",
    "bins = [0, 0.4, 0.6, 0.8, 0.99, 1.0]\n",
    "\n",
    "# Assign OCR noise level labels\n",
    "labels = [\"0-40%\", \"40-60%\", \"60-80%\", \"80-99%\", \"99-100%\"]\n",
    "\n",
    "# Count the number of unique datasets\n",
    "n_datasets = data.dataset_name.nunique()\n",
    "dataset_names = ['ina']\n",
    "\n",
    "prompt_names = ['prompt_basic_01', 'prompt_basic_02']\n",
    "\n",
    "\n",
    "n_plots = len(dataset_names)\n",
    "n_plots_per_figure = 4\n",
    "n_figures = int(np.ceil(n_plots / n_plots_per_figure))\n",
    "\n",
    "print(n_figures)\n",
    "\n",
    "for type_of_experiment in ['zero-shot']:\n",
    "# for type_of_experiment in ['language-specific']:\n",
    "    for error_rate in ['lev']:\n",
    "        \n",
    "        for fig_idx in range(n_figures):\n",
    "            fig, axs = plt.subplots(2, 2, figsize=(30, 15))\n",
    "            axs = axs.flatten()\n",
    "\n",
    "            for i in range(n_plots_per_figure):\n",
    "                idx = fig_idx * n_plots_per_figure + i\n",
    "                if idx < n_plots:\n",
    "                    dataset = dataset_names[idx]\n",
    "                dataset_data = data[(data.dataset_name == dataset) & (data.type == type_of_experiment)]\n",
    "                # Compute the mean WER across line, sentence, and region levels\n",
    "#                 if 'icdar' not in dataset:\n",
    "#                     dataset_data[f'overall-levenshtein-improvement'] = dataset_data[[f'line-{error_rate}-improvement', \n",
    "#                                                                       f'sentence-{error_rate}-improvement', \n",
    "#                                                                       f'region-{error_rate}-improvement']].mean(axis=1)\n",
    "#                 else:\n",
    "#                     dataset_data[f'overall-levenshtein-improvement'] = dataset_data[[f'sentence-{error_rate}-improvement', \n",
    "#                                                                   f'region-{error_rate}-improvement']].mean(axis=1)\n",
    "\n",
    "                try:\n",
    "                    # Plot the distribution of improvements for each model\n",
    "#                     _ = sns.boxplot(x='model', y=f'sentence-lev-improvement', data=dataset_data, \n",
    "#                                     ax=axs[i], order=MODELS, hue='prompt', hue_order=prompt_names)\n",
    "#                     axs[i].set_title(f'{dataset.upper()} ({type_of_experiment})')\n",
    "                    \n",
    "#                     # Calculate the percentage of correct OCR for this dataset\n",
    "#                     correct_ocr_percentage = (dataset_data['sentence-lev-ocr'] == 1.0).mean() * 100\n",
    "\n",
    "#                     # Add text annotation to the subplot\n",
    "#                     annotation_text = f\"Correct OCR: {correct_ocr_percentage:.2f}%\"\n",
    "#                     axs[i].annotate(annotation_text, xy=(0.05, 0.95), xycoords='axes fraction', \n",
    "#                                     fontsize=12, color='Red', va='top', ha='center')\n",
    "            \n",
    "                    \n",
    "#                    # Plot the distribution of improvements for each model with color-coded points\n",
    "#                     _ = sns.boxplot(x='model', y=f'sentence-lev-improvement', data=dataset_data, \n",
    "#                                     ax=axs[i], order=MODELS, hue='prompt', hue_order=prompt_names, \n",
    "#                                     palette='Blues' if type_of_experiment == 'zero-shot' else 'Reds')\n",
    "#                     _ = sns.swarmplot(x='model', y=f'sentence-lev-improvement', data=dataset_data, \n",
    "#                                       ax=axs[i], order=MODELS, hue=f'sentence-lev-ocr', dodge=True, edgecolor='gray', linewidth=0.5)\n",
    "                    _ = sns.stripplot(x='model', y=f'overall-levenshtein-improvement', hue=f'sentence-lev-ocr',\n",
    "                                      data=dataset_data, jitter=True, alpha=0.2, ax=axs[i], size=5)\n",
    "\n",
    "#                     print(f'{dataset.upper()} ({type_of_experiment})')\n",
    "                    axs[i].set_title(f'{dataset.upper()} ({type_of_experiment})')\n",
    "        \n",
    "                    axs[i].set_ylim([-1, 1.2])\n",
    "                    axs[i].set_xticklabels(axs[i].get_xticklabels(), rotation=15)  # Rotate x-axis labels\n",
    "                    axs[i].set_xlabel('')  # Remove x-axis label\n",
    "                    axs[i].set_ylabel('')  # Remove y-axis label\n",
    "                    \n",
    "                except Exception as ex:\n",
    "                    print(f'Could not load {dataset} with {ex}')\n",
    "\n",
    "            # Remove empty subplots\n",
    "            for i in range(len(data.dataset_name.unique()), len(axs)):\n",
    "                fig.delaxes(axs[i])\n",
    "\n",
    "            plt.tight_layout()\n",
    "            plt.suptitle(f'Overall Levenshtein Improvement in Terms of Sentence OCR Quality ({type_of_experiment})', fontsize=20, y=1.02)\n",
    "            plt.show()\n"
   ]
  },
  {
   "cell_type": "code",
   "execution_count": 71,
   "id": "96ca47af-c228-4196-87d9-6c0445c32d30",
   "metadata": {},
   "outputs": [
    {
     "data": {
      "image/png": "[encoded data removed]",
      "text/plain": [
       "<Figure size 1200x800 with 2 Axes>"
      ]
     },
     "metadata": {},
     "output_type": "display_data"
    }
   ],
   "source": [
    "import pandas as pd\n",
    "import seaborn as sns\n",
    "import matplotlib.pyplot as plt\n",
    "\n",
    "# 1) Filter to the experiment & prompt you want\n",
    "df = data[\n",
    "    (data['type'] == 'zero-shot') &\n",
    "    (data['prompt'] == 'prompt_complex_01')\n",
    "].copy()\n",
    "\n",
    "# 2) Compute the mean post‑processed sentence‑lev improvement per model×dataset\n",
    "heat = (\n",
    "    df\n",
    "    .groupby(['model','dataset_name'])['sentence-lev-improvement-postprocessed']\n",
    "    .mean()\n",
    "    .unstack('dataset_name')\n",
    ")\n",
    "\n",
    "# 3) Grab the actual models & datasets present, in the order they appear\n",
    "model_order   = heat.index.tolist()\n",
    "dataset_order = heat.columns.tolist()\n",
    "\n",
    "# 4) Reindex to ensure your heat matrix uses exactly those\n",
    "heat = heat.reindex(index=model_order, columns=dataset_order)\n",
    "\n",
    "# 5) Plot\n",
    "plt.figure(figsize=(12, 8))\n",
    "sns.heatmap(\n",
    "    heat,\n",
    "    annot=True,\n",
    "    fmt=\".2f\",\n",
    "    center=0,\n",
    "    cmap=\"RdYlGn_r\",\n",
    "    cbar_kws={\"label\": \"Avg Sentence‑lev Improvement\"}\n",
    ")\n",
    "plt.ylabel(\"Model\")\n",
    "plt.xlabel(\"Dataset\")\n",
    "plt.title(\"Avg Post‑correction Improvement\\n(zero‑shot, prompt_complex_01)\")\n",
    "plt.xticks(rotation=45, ha='right')\n",
    "plt.yticks(rotation=0)\n",
    "plt.tight_layout()\n",
    "plt.show()\n"
   ]
  },
  {
   "cell_type": "code",
   "execution_count": 72,
   "id": "ea9ad365",
   "metadata": {},
   "outputs": [
    {
     "name": "stdout",
     "output_type": "stream",
     "text": [
      "2\n"
     ]
    },
    {
     "data": {
      "image/png": "[encoded data removed]",
      "text/plain": [
       "<Figure size 3000x1500 with 1 Axes>"
      ]
     },
     "metadata": {},
     "output_type": "display_data"
    },
    {
     "data": {
      "image/png": "[encoded data removed]",
      "text/plain": [
       "<Figure size 3000x1500 with 1 Axes>"
      ]
     },
     "metadata": {},
     "output_type": "display_data"
    },
    {
     "data": {
      "image/png": "[encoded data removed]",
      "text/plain": [
       "<Figure size 3000x1500 with 1 Axes>"
      ]
     },
     "metadata": {},
     "output_type": "display_data"
    },
    {
     "data": {
      "image/png": "[encoded data removed]",
      "text/plain": [
       "<Figure size 3000x1500 with 1 Axes>"
      ]
     },
     "metadata": {},
     "output_type": "display_data"
    }
   ],
   "source": [
    "import pandas as pd\n",
    "import seaborn as sns\n",
    "import matplotlib.pyplot as plt\n",
    "import warnings\n",
    "import numpy as np\n",
    "warnings.filterwarnings('ignore')\n",
    "\n",
    "sns.set_palette('colorblind')\n",
    "sns.set_context(\"notebook\", font_scale=1.8)\n",
    "sns.set_style(\"whitegrid\")\n",
    "\n",
    "# Define OCR noise level bins\n",
    "bins = [0, 0.4, 0.6, 0.8, 0.99, 1.0]\n",
    "\n",
    "# Assign OCR noise level labels\n",
    "labels = [\"0-40%\", \"40-60%\", \"60-80%\", \"80-99%\", \"99-100%\"]\n",
    "\n",
    "# Count the number of unique datasets\n",
    "n_datasets = data.dataset_name.nunique()\n",
    "dataset_names = ['impresso-nzz', 'overproof', 'ajmc-mixed', \n",
    "                 'ajmc-primary-text', 'icdar-2017', 'icdar-2019', 'htrec', 'ina']\n",
    "\n",
    "prompt_names = ['prompt_basic_01', 'prompt_basic_02', 'prompt_complex_01', \n",
    "                'prompt_complex_02', 'prompt_complex_lang']\n",
    "\n",
    "\n",
    "n_plots = len(dataset_names)\n",
    "n_plots_per_figure = 4\n",
    "n_figures = int(np.ceil(n_plots / n_plots_per_figure))\n",
    "\n",
    "print(n_figures)\n",
    "\n",
    "for type_of_experiment in ['zero-shot', 'few-shot']:\n",
    "# for type_of_experiment in ['language-specific']:\n",
    "    for error_rate in ['lev']:\n",
    "        \n",
    "        for fig_idx in range(n_figures):\n",
    "            fig, axs = plt.subplots(2, 2, figsize=(30, 15))\n",
    "            axs = axs.flatten()\n",
    "\n",
    "            for i in range(n_plots_per_figure):\n",
    "                idx = fig_idx * n_plots_per_figure + i\n",
    "                if idx < n_plots:\n",
    "                    dataset = dataset_names[idx]\n",
    "                dataset_data = data[(data.dataset_name == dataset) & (data.type == type_of_experiment)]\n",
    "                # Compute the mean WER across line, sentence, and region levels\n",
    "                if 'icdar' not in dataset:\n",
    "                    dataset_data[f'overall-levenshtein-improvement'] = dataset_data[[f'line-{error_rate}-improvement', \n",
    "                                                                      f'sentence-{error_rate}-improvement']].mean(axis=1)\n",
    "                else:\n",
    "                    dataset_data[f'overall-levenshtein-improvement'] = dataset_data[[f'sentence-{error_rate}-improvement']].mean(axis=1)\n",
    "\n",
    "                try:\n",
    "                    # Plot the distribution of improvements for each model\n",
    "                    _ = sns.boxplot(x='model', y=f'overall-levenshtein-improvement', data=dataset_data, \n",
    "                                    ax=axs[i], order=MODELS, hue='prompt', hue_order=prompt_names)\n",
    "                    axs[i].set_title(f'{dataset.upper()} ({type_of_experiment})')\n",
    "\n",
    "                    axs[i].set_ylim([-1, 1.2])\n",
    "                    axs[i].set_xticklabels(axs[i].get_xticklabels(), rotation=15)  # Rotate x-axis labels\n",
    "                    axs[i].set_xlabel('')  # Remove x-axis label\n",
    "                    axs[i].set_ylabel('')  # Remove y-axis label\n",
    "                except Exception as ex:\n",
    "                    print(f'Could not load {dataset} with {ex}')\n",
    "\n",
    "            # Remove empty subplots\n",
    "            for i in range(len(data.dataset_name.unique()), len(axs)):\n",
    "                fig.delaxes(axs[i])\n",
    "\n",
    "            plt.tight_layout()\n",
    "            plt.suptitle(f'Overall Levenshtein Improvement across Datasets, Models, and Prompts ({type_of_experiment})', fontsize=20, y=1.02)\n",
    "            plt.show()\n"
   ]
  },
  {
   "cell_type": "code",
   "execution_count": null,
   "id": "c1c5819c",
   "metadata": {},
   "outputs": [],
   "source": [
    "data.columns"
   ]
  },
  {
   "cell_type": "code",
   "execution_count": null,
   "id": "9b91104f",
   "metadata": {},
   "outputs": [],
   "source": [
    "for type_of_experiment in ['zero-shot', 'few-shot']:\n",
    "    for error_rate in ['lev']:\n",
    "        # Create a new DataFrame to store the average improvements for each model and prompt\n",
    "        average_improvements = pd.DataFrame(columns=['prompt', 'model', 'overall-levenshtein-improvement'])\n",
    "\n",
    "        for model in data.model.unique():  # Iterate over each unique model\n",
    "            for dataset in dataset_names:\n",
    "                dataset_data = data[(data.dataset_name == dataset) & (data.model == model) & (data.type == type_of_experiment)]  # Filter data for the current model\n",
    "                if 'icdar' not in dataset:\n",
    "                    dataset_data[f'Overall Levenshtein Improvement'] = dataset_data[[f'line-{error_rate}-improvement', \n",
    "                                                                          f'sentence-{error_rate}-improvement']].mean(axis=1)\n",
    "                else:\n",
    "                    dataset_data[f'Overall Levenshtein Improvement'] = dataset_data[[f'sentence-{error_rate}-improvement']].mean(axis=1)\n",
    "\n",
    "                # Group the data by prompt and model, then calculate the mean Overall Levenshtein Improvement\n",
    "                grouped_data = dataset_data.groupby(['prompt', 'model'])['overall-levenshtein-improvement'].mean().reset_index()\n",
    "\n",
    "                # Add the grouped data to the average_improvements DataFrame\n",
    "                average_improvements = pd.concat([average_improvements, grouped_data])\n",
    "\n",
    "        # Group the data by prompt and model again, this time averaging the averages for each model and prompt\n",
    "        average_improvements = average_improvements.groupby(['prompt', 'model'])['overall-levenshtein-improvement'].mean().reset_index()\n",
    "\n",
    "        fig, ax = plt.subplots(figsize=(15, 10))  # Create the plot\n",
    "\n",
    "        try:\n",
    "            # Plot the KDE plot of average improvements for each prompt\n",
    "            for model in average_improvements.model.unique():\n",
    "                _ = sns.kdeplot(average_improvements[average_improvements.model == model]['overall-levenshtein-improvement'], \n",
    "                                ax=ax, label=model, lw=2.5)  # Increase line width here\n",
    "        except Exception as ex:\n",
    "            print(f'Could not load data with {ex}')\n",
    "\n",
    "        ax.set_title(f'Average Overall Levenshtein Improvement KDE ({type_of_experiment})')  # Modify title since it's no longer specific to one model\n",
    "        ax.set_xlabel('Average Overall Levenshtein Improvement')\n",
    "        ax.set_ylabel('Density')\n",
    "\n",
    "        plt.tight_layout()\n",
    "        plt.legend(title='Model', title_fontsize='13', fontsize='12')  # Increase legend fontsize here\n",
    "        plt.suptitle(f'Evolution of Prompt Complexity and Average Improvement KDE ({type_of_experiment})', fontsize=20, y=1.02)\n",
    "        plt.show()\n"
   ]
  },
  {
   "cell_type": "code",
   "execution_count": null,
   "id": "f92b6985",
   "metadata": {},
   "outputs": [],
   "source": [
    "import pandas as pd\n",
    "import seaborn as sns\n",
    "import matplotlib.pyplot as plt\n",
    "import warnings\n",
    "import numpy as np\n",
    "warnings.filterwarnings('ignore')\n",
    "\n",
    "sns.set_palette('colorblind')\n",
    "sns.set_context(\"notebook\", font_scale=1.5)\n",
    "sns.set_style(\"whitegrid\")\n",
    "\n",
    "# Define OCR noise level bins\n",
    "bins = [0, 0.4, 0.6, 0.8, 0.99, 1.0]\n",
    "\n",
    "# Assign OCR noise level labels\n",
    "labels = [\"0-40%\", \"40-60%\", \"60-80%\", \"80-99%\", \"99-100%\"]\n",
    "\n",
    "# Count the number of unique datasets\n",
    "n_datasets = data.dataset_name.nunique()\n",
    "dataset_names = ['impresso-nzz', 'overproof', 'ajmc-mixed', \n",
    "                 'ajmc-primary-text', 'icdar-2017', 'icdar-2019', 'htrec', 'ina']\n",
    "\n",
    "prompt_names = ['prompt_basic_01', 'prompt_basic_02', 'prompt_complex_01', \n",
    "                'prompt_complex_02', 'prompt_complex_lang']\n",
    "\n",
    "\n",
    "n_plots = len(dataset_names)\n",
    "n_plots_per_figure = 4\n",
    "n_figures = int(np.ceil(n_plots / n_plots_per_figure))\n",
    "\n",
    "for type_of_experiment in ['zero-shot', 'few-shot']:\n",
    "# for type_of_experiment in ['language-specific']:\n",
    "    for error_rate in ['lev']:\n",
    "        \n",
    "        for fig_idx in range(n_figures):\n",
    "            fig, axs = plt.subplots(2, 2, figsize=(30, 15))\n",
    "            axs = axs.flatten()\n",
    "\n",
    "            for i in range(n_plots_per_figure):\n",
    "                idx = fig_idx * n_plots_per_figure + i\n",
    "                if idx < n_plots:\n",
    "                    dataset = dataset_names[idx]\n",
    "                dataset_data = data[(data.dataset_name == dataset) & (data.type == type_of_experiment)]\n",
    "                # Compute the mean WER across line, sentence, and region levels\n",
    "                if 'icdar' not in dataset:\n",
    "                    dataset_data['overall-levenshtein-improvement'] = dataset_data[[f'sentence-{error_rate}-improvement']].mean(axis=1)\n",
    "                else:\n",
    "                    dataset_data['overall-levenshtein-improvement'] = dataset_data[[f'sentence-{error_rate}-improvement']].mean(axis=1)\n",
    "\n",
    "                try:\n",
    "                    # Plot the distribution of improvements for each model\n",
    "                    _ = sns.boxplot(x='model', y='overall-levenshtein-improvement', data=dataset_data, \n",
    "                                    ax=axs[i], order=MODELS, hue='prompt', hue_order=prompt_names)\n",
    "                    axs[i].set_title(f'{dataset.upper()} ({type_of_experiment})')\n",
    "\n",
    "                    axs[i].set_ylim([-1.1, 1.1])\n",
    "                    axs[i].set_xticklabels(axs[i].get_xticklabels(), rotation=15)  # Rotate x-axis labels\n",
    "                    axs[i].set_xlabel('')  # Remove x-axis label\n",
    "                    axs[i].set_ylabel('')  # Remove y-axis label\n",
    "                except Exception as ex:\n",
    "                    print(f'Could not load {dataset} with {ex}')\n",
    "\n",
    "\n",
    "            # Remove empty subplots\n",
    "            for i in range(len(data.dataset_name.unique()), len(axs)):\n",
    "                fig.delaxes(axs[i])\n",
    "\n",
    "            plt.tight_layout()\n",
    "            plt.suptitle(f'Overall Levenshtein Improvement across Datasets, Models, and Prompts ({type_of_experiment})', fontsize=20, y=1.02)\n",
    "            plt.show()\n"
   ]
  },
  {
   "cell_type": "code",
   "execution_count": null,
   "id": "8acfe884",
   "metadata": {},
   "outputs": [],
   "source": [
    "import seaborn as sns\n",
    "import matplotlib.pyplot as plt\n",
    "\n",
    "sns.set_palette('colorblind')\n",
    "sns.set_context(\"notebook\", font_scale=.7)\n",
    "sns.set_style(\"whitegrid\")\n",
    "\n",
    "for type_of_experiment in ['zero-shot']:\n",
    "    for error_rate in ['lev']:\n",
    "        fig, axs = plt.subplots(3, 2, figsize=(8, 12))  # Change here\n",
    "        axs = axs.flatten()  # To make it easy to index\n",
    "\n",
    "        for i, prompt in enumerate(prompt_names):\n",
    "            prompt_data = data[(data.prompt == prompt) & (data.type == type_of_experiment)]\n",
    "            \n",
    "            if 'icdar' not in dataset:\n",
    "                prompt_data['overall-levenshtein-improvement'] = prompt_data[[f'line-{error_rate}-improvement', \n",
    "                                                                  f'sentence-{error_rate}-improvement']].mean(axis=1)\n",
    "            else:\n",
    "                prompt_data['overall-levenshtein-improvement'] = prompt_data[[f'sentence-{error_rate}-improvement']].mean(axis=1)\n",
    "\n",
    "            try:\n",
    "                if len(prompt_data) > 0:\n",
    "                    sns.kdeplot(data=prompt_data, x='overall-levenshtein-improvement', hue='model', \n",
    "                                fill=True, ax=axs[i], hue_order=MODELS)\n",
    "                    axs[i].set_title(f'{prompt} ({type_of_experiment})')\n",
    "                    axs[i].set_xlim([-1, 1.2])\n",
    "                    axs[i].set_ylim([0, 1.4])\n",
    "            except Exception as ex:\n",
    "                print(f'Could not plot {prompt} with {ex}')\n",
    "\n",
    "        # Remove empty subplot\n",
    "        fig.delaxes(axs[-1])  # Change here\n",
    "\n",
    "        plt.tight_layout()\n",
    "        plt.show()\n",
    "        \n",
    "# A kernel density estimate (KDE) plot is a method for visualizing the distribution of observations in a dataset, \n",
    "# analogous to a histogram. KDE represents the data using a continuous probability density curve in one or more \n",
    "# dimensions.\n",
    "\n",
    "# Relative to a histogram, KDE can produce a plot that is less cluttered and more interpretable, especially when \n",
    "# drawing multiple distributions. But it has the potential to introduce distortions if the underlying distribution \n",
    "# is bounded or not smooth. Like a histogram, the quality of the representation also depends on the selection of \n",
    "# good smoothing parameters.\n"
   ]
  },
  {
   "cell_type": "code",
   "execution_count": null,
   "id": "8e4d2e71",
   "metadata": {},
   "outputs": [],
   "source": [
    "data.columns"
   ]
  },
  {
   "cell_type": "code",
   "execution_count": null,
   "id": "abd61e36",
   "metadata": {},
   "outputs": [],
   "source": [
    "prompts_to_compare = ['prompt_complex_02', 'prompt_complex_lang']\n",
    "languages = [lang for lang in data['language'].unique() if lang != 'en']  # Exclude 'en' language\n",
    "\n",
    "for type_of_experiment in ['zero-shot']:\n",
    "    for error_rate in ['lev']:\n",
    "        plt.figure(figsize=(10, 6))  # Adjust as necessary\n",
    "\n",
    "        for language in languages:\n",
    "            language_data = data[(data.language == language) & \n",
    "                                 (data.type == type_of_experiment) & \n",
    "                                 (data.prompt.isin(prompts_to_compare))]\n",
    "\n",
    "            if 'icdar' not in dataset:\n",
    "                language_data['overall-levenshtein-improvement'] = language_data[[f'line-{error_rate}-improvement', \n",
    "                                                                  f'sentence-{error_rate}-improvement']]\n",
    "            else:\n",
    "                language_data['overall-levenshtein-improvement'] = language_data[[f'sentence-{error_rate}-improvement']] \n",
    "\n",
    "            try:\n",
    "                if len(language_data) > 0:\n",
    "                    sns.kdeplot(data=language_data, x='overall-levenshtein-improvement', hue='prompt', \n",
    "                                fill=True, hue_order=prompts_to_compare)\n",
    "            except Exception as ex:\n",
    "                print(f'Could not plot {language} with {ex}')\n",
    "\n",
    "        plt.title(f'All Languages ({type_of_experiment})')\n",
    "        plt.tight_layout()\n",
    "        plt.show()\n"
   ]
  },
  {
   "cell_type": "code",
   "execution_count": null,
   "id": "22961951",
   "metadata": {},
   "outputs": [],
   "source": [
    "data.columns"
   ]
  },
  {
   "cell_type": "code",
   "execution_count": null,
   "id": "a0c3d042",
   "metadata": {},
   "outputs": [],
   "source": [
    "import numpy as np\n",
    "import seaborn as sns\n",
    "import matplotlib.pyplot as plt\n",
    "\n",
    "sns.set_palette('colorblind')\n",
    "sns.set_context(\"notebook\", font_scale=1.)\n",
    "\n",
    "\n",
    "prompts_to_compare = ['prompt_complex_02', 'prompt_complex_lang']\n",
    "languages = [lang for lang in data['language'].unique() if lang != 'en']  # Exclude 'en' language\n",
    "\n",
    "bar_data = []\n",
    "\n",
    "for type_of_experiment in ['zero-shot']:\n",
    "    for error_rate in ['lev']:\n",
    "        for language in languages:\n",
    "            for prompt in prompts_to_compare:\n",
    "                sub_data = data[(data.language == language) & \n",
    "                                 (data.type == type_of_experiment) & \n",
    "                                 (data.prompt == prompt)]\n",
    "                if 'icdar' not in dataset:\n",
    "                    sub_data['overall-levenshtein-improvement'] = sub_data[[f'line-{error_rate}-improvement', \n",
    "                                                                          f'sentence-{error_rate}-improvement']].mean(axis=1)\n",
    "                else:\n",
    "                    sub_data['overall-levenshtein-improvement'] = sub_data[[f'sentence-{error_rate}-improvement']].mean(axis=1)\n",
    "                \n",
    "                mean_improvement = np.mean(sub_data['overall-levenshtein-improvement'])\n",
    "                bar_data.append({'Language': language, 'Prompt': prompt, 'Mean Improvement': mean_improvement})\n",
    "\n",
    "bar_data = pd.DataFrame(bar_data)\n",
    "\n",
    "plt.figure(figsize=(10, 6))\n",
    "sns.barplot(x='Language', y='Mean Improvement', hue='Prompt', data=bar_data, hue_order=prompts_to_compare)\n",
    "plt.title(f'Mean Levenshtein Improvement for all Languages ({type_of_experiment})')\n",
    "plt.xticks(rotation=90)  # Rotate x-axis labels for better visibility\n",
    "plt.tight_layout()\n",
    "plt.show()\n"
   ]
  },
  {
   "cell_type": "code",
   "execution_count": null,
   "id": "222d76ad",
   "metadata": {},
   "outputs": [],
   "source": [
    "data.columns"
   ]
  },
  {
   "cell_type": "code",
   "execution_count": null,
   "id": "4fde994d",
   "metadata": {},
   "outputs": [],
   "source": [
    "import seaborn as sns\n",
    "import matplotlib.pyplot as plt\n",
    "\n",
    "sns.set_palette('colorblind')\n",
    "sns.set_context(\"notebook\", font_scale=.7)\n",
    "\n",
    "segmentations = ['line', 'sentence']\n",
    "\n",
    "for type_of_experiment in ['zero-shot']:\n",
    "    for error_rate in ['lev']:\n",
    "        for segmentation in segmentations:\n",
    "            fig, axs = plt.subplots(3, 2, figsize=(8, 12))  # Change here\n",
    "            axs = axs.flatten()  # To make it easy to index\n",
    "\n",
    "            for i, prompt in enumerate(prompt_names):\n",
    "                prompt_data = data[(data.prompt == prompt) & (data.type == type_of_experiment)]\n",
    "                if segmentation == 'line':\n",
    "                    prompt_data = prompt_data[~prompt_data.dataset_name.isin(['icdar-2017', 'icdar-2019'])]\n",
    "                prompt_data[f'{segmentation.capitalize()} Levenshtein Improvement'] = prompt_data[f'{segmentation}-{error_rate}-improvement']\n",
    "\n",
    "                try:\n",
    "                    if len(prompt_data) > 0:\n",
    "                        sns.kdeplot(data=prompt_data, x=f'{segmentation.capitalize()} Levenshtein Improvement', \n",
    "                                    hue='model', fill=True, ax=axs[i], hue_order=MODELS)\n",
    "                        axs[i].set_title(f'{prompt} ({type_of_experiment})')\n",
    "                        axs[i].set_xlim([-1, 1.2])\n",
    "                        axs[i].set_ylim([0, 1.5])\n",
    "                except Exception as ex:\n",
    "                    print(f'Could not plot {prompt} with {ex}')\n",
    "\n",
    "            # Remove empty subplot\n",
    "            fig.delaxes(axs[-1])  # Change here\n",
    "\n",
    "            plt.suptitle(f'{segmentation.capitalize()} Levenshtein Improvement across Prompts and Models ({type_of_experiment})', fontsize=20, y=1.02)\n",
    "            plt.tight_layout()\n",
    "            plt.show()\n"
   ]
  },
  {
   "cell_type": "code",
   "execution_count": null,
   "id": "ea2ccc43-bc6a-4b1c-b01b-1e3ab043c571",
   "metadata": {},
   "outputs": [],
   "source": [
    "print(data[data.type == 'zero-shot'].prompt.value_counts())\n"
   ]
  },
  {
   "cell_type": "code",
   "execution_count": null,
   "id": "079ce7a0-8bb4-4e99-b54d-220ddd03bc20",
   "metadata": {},
   "outputs": [],
   "source": [
    "import pandas as pd\n",
    "import seaborn as sns\n",
    "import matplotlib.pyplot as plt\n",
    "\n",
    "# filter down to zero‑shot\n",
    "zs = data[data['type']=='zero-shot'].copy()\n",
    "\n",
    "# melt only the two improvements\n",
    "long = zs.melt(\n",
    "    id_vars=['prompt','model'],\n",
    "    value_vars=['line-lev-improvement','sentence-lev-improvement'],\n",
    "    var_name='segmentation', \n",
    "    value_name='improvement'\n",
    ")\n",
    "long['segmentation'] = long['segmentation'].str.split('-').str[0]\n",
    "\n",
    "# facet by segmentation (rows) and prompt (cols)\n",
    "g = sns.FacetGrid(\n",
    "    long, \n",
    "    row='segmentation', \n",
    "    col='prompt', \n",
    "    hue='model',\n",
    "    sharex=True,\n",
    "    sharey=True,\n",
    "    margin_titles=True,\n",
    "    height=3\n",
    ")\n",
    "\n",
    "# Map only the KDE curves\n",
    "g.map_dataframe(\n",
    "    sns.kdeplot,\n",
    "    x='improvement',\n",
    "    common_norm=False,  # optional: normalizes each model separately\n",
    "    fill=True,\n",
    "    alpha=0.5,\n",
    "    linewidth=1.5\n",
    ")\n",
    "\n",
    "# Clamp y-axis\n",
    "g.set(ylim=(0, 2))\n",
    "\n",
    "# Legend & title\n",
    "g.add_legend(title='Model', bbox_to_anchor=(1.02, 1), borderaxespad=0)\n",
    "plt.subplots_adjust(top=0.9, right=0.85)\n",
    "g.fig.suptitle('Line & Sentence Levenshtein Improvements (zero‑shot)')\n",
    "\n",
    "plt.show()\n"
   ]
  },
  {
   "cell_type": "code",
   "execution_count": null,
   "id": "68913b75",
   "metadata": {},
   "outputs": [],
   "source": []
  },
  {
   "cell_type": "code",
   "execution_count": null,
   "id": "818014ed",
   "metadata": {},
   "outputs": [],
   "source": []
  },
  {
   "cell_type": "code",
   "execution_count": null,
   "id": "449b6097",
   "metadata": {},
   "outputs": [],
   "source": []
  },
  {
   "cell_type": "code",
   "execution_count": null,
   "id": "31ff5018",
   "metadata": {},
   "outputs": [],
   "source": []
  },
  {
   "cell_type": "code",
   "execution_count": null,
   "id": "c7f60dfb",
   "metadata": {},
   "outputs": [],
   "source": []
  },
  {
   "cell_type": "code",
   "execution_count": null,
   "id": "d43e38d1",
   "metadata": {},
   "outputs": [],
   "source": []
  },
  {
   "cell_type": "code",
   "execution_count": null,
   "id": "4d142c1c",
   "metadata": {},
   "outputs": [],
   "source": []
  }
 ],
 "metadata": {
  "kernelspec": {
   "display_name": "Python (boros)",
   "language": "python",
   "name": "boros"
  },
  "language_info": {
   "codemirror_mode": {
    "name": "ipython",
    "version": 3
   },
   "file_extension": ".py",
   "mimetype": "text/x-python",
   "name": "python",
   "nbconvert_exporter": "python",
   "pygments_lexer": "ipython3",
   "version": "3.12.0"
  }
 },
 "nbformat": 4,
 "nbformat_minor": 5
}
